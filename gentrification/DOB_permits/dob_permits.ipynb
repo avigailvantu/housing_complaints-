{
 "cells": [
  {
   "cell_type": "code",
   "execution_count": 1,
   "metadata": {
    "collapsed": true
   },
   "outputs": [],
   "source": [
    "import pandas as pd\n",
    "#import geopandas as gpd\n",
    "import numpy as np"
   ]
  },
  {
   "cell_type": "code",
   "execution_count": 2,
   "metadata": {
    "collapsed": true
   },
   "outputs": [],
   "source": [
    "#making sure the date filtering worked"
   ]
  },
  {
   "cell_type": "code",
   "execution_count": 3,
   "metadata": {},
   "outputs": [
    {
     "name": "stderr",
     "output_type": "stream",
     "text": [
      "/Users/avigailvantu/anaconda2/lib/python2.7/site-packages/IPython/core/interactiveshell.py:2718: DtypeWarning: Columns (34,35,51,52) have mixed types. Specify dtype option on import or set low_memory=False.\n",
      "  interactivity=interactivity, compiler=compiler, result=result)\n"
     ]
    }
   ],
   "source": [
    "dob14 = pd.read_csv('DOB_Permit_Issuance2014.csv') "
   ]
  },
  {
   "cell_type": "code",
   "execution_count": 5,
   "metadata": {},
   "outputs": [
    {
     "data": {
      "text/plain": [
       "171725"
      ]
     },
     "execution_count": 5,
     "metadata": {},
     "output_type": "execute_result"
    }
   ],
   "source": [
    "len(dob14)"
   ]
  },
  {
   "cell_type": "code",
   "execution_count": 6,
   "metadata": {},
   "outputs": [
    {
     "data": {
      "text/plain": [
       "Index([u'BOROUGH', u'Bin #', u'House #', u'Street Name', u'Job #',\n",
       "       u'Job doc. #', u'Job Type', u'Self_Cert', u'Block', u'Lot',\n",
       "       u'Community Board', u'Zip Code', u'Bldg Type', u'Residential',\n",
       "       u'Special District 1', u'Special District 2', u'Work Type',\n",
       "       u'Permit Status', u'Filing Status', u'Permit Type',\n",
       "       u'Permit Sequence #', u'Permit Subtype', u'Oil Gas', u'Site Fill',\n",
       "       u'Filing Date', u'Issuance Date', u'Expiration Date', u'Job Start Date',\n",
       "       u'Permittee's First Name', u'Permittee's Last Name',\n",
       "       u'Permittee's Business Name', u'Permittee's Phone #',\n",
       "       u'Permittee's License Type', u'Permittee's License #',\n",
       "       u'Act as Superintendent', u'Permittee's Other Title', u'HIC License',\n",
       "       u'Site Safety Mgr's First Name', u'Site Safety Mgr's Last Name',\n",
       "       u'Site Safety Mgr Business Name', u'Superintendent First & Last Name',\n",
       "       u'Superintendent Business Name', u'Owner's Business Type',\n",
       "       u'Non-Profit', u'Owner's Business Name', u'Owner's First Name',\n",
       "       u'Owner's Last Name', u'Owner's House #', u'Owner's House Street Name',\n",
       "       u'Owner’s House City', u'Owner’s House State',\n",
       "       u'Owner’s House Zip Code', u'Owner's Phone #', u'DOBRunDate',\n",
       "       u'PERMIT_SI_NO', u'LATITUDE', u'LONGITUDE', u'COUNCIL_DISTRICT',\n",
       "       u'CENSUS_TRACT', u'NTA_NAME'],\n",
       "      dtype='object')"
      ]
     },
     "execution_count": 6,
     "metadata": {},
     "output_type": "execute_result"
    }
   ],
   "source": [
    "dob14.columns"
   ]
  },
  {
   "cell_type": "code",
   "execution_count": 10,
   "metadata": {},
   "outputs": [
    {
     "data": {
      "text/plain": [
       "'01/01/2014 12:00:00 AM'"
      ]
     },
     "execution_count": 10,
     "metadata": {},
     "output_type": "execute_result"
    }
   ],
   "source": [
    "dob14['Filing Date'].min()"
   ]
  },
  {
   "cell_type": "code",
   "execution_count": 11,
   "metadata": {},
   "outputs": [
    {
     "data": {
      "text/plain": [
       "'12/31/2014 12:00:00 AM'"
      ]
     },
     "execution_count": 11,
     "metadata": {},
     "output_type": "execute_result"
    }
   ],
   "source": [
    "dob14['Filing Date'].max()"
   ]
  },
  {
   "cell_type": "code",
   "execution_count": 12,
   "metadata": {
    "collapsed": true
   },
   "outputs": [],
   "source": [
    "# it worked!"
   ]
  },
  {
   "cell_type": "code",
   "execution_count": null,
   "metadata": {
    "collapsed": true
   },
   "outputs": [],
   "source": []
  }
 ],
 "metadata": {
  "kernelspec": {
   "display_name": "Python 2",
   "language": "python",
   "name": "python2"
  },
  "language_info": {
   "codemirror_mode": {
    "name": "ipython",
    "version": 2
   },
   "file_extension": ".py",
   "mimetype": "text/x-python",
   "name": "python",
   "nbconvert_exporter": "python",
   "pygments_lexer": "ipython2",
   "version": "2.7.14"
  }
 },
 "nbformat": 4,
 "nbformat_minor": 2
}
