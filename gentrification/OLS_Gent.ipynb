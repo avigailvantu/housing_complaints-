{
 "cells": [
  {
   "cell_type": "code",
   "execution_count": 1,
   "metadata": {},
   "outputs": [],
   "source": [
    "import pandas as pd\n",
    "import matplotlib\n",
    "import numpy as np\n",
    "import geopandas as gpd"
   ]
  },
  {
   "cell_type": "markdown",
   "metadata": {},
   "source": [
    "data prep"
   ]
  },
  {
   "cell_type": "markdown",
   "metadata": {},
   "source": [
    "### 1. number of units res per census tract "
   ]
  },
  {
   "cell_type": "code",
   "execution_count": 2,
   "metadata": {},
   "outputs": [],
   "source": [
    "units_census = pd.read_csv('units_census.csv', converters={'census_fips': lambda x: str(x).zfill(9)})"
   ]
  },
  {
   "cell_type": "code",
   "execution_count": 3,
   "metadata": {},
   "outputs": [],
   "source": [
    "units_census['GEO_ID'] = units_census['census_fips'].apply(lambda x: f\"1400000US36{x}\")"
   ]
  },
  {
   "cell_type": "code",
   "execution_count": 20,
   "metadata": {},
   "outputs": [
    {
     "data": {
      "text/html": [
       "<div>\n",
       "<style scoped>\n",
       "    .dataframe tbody tr th:only-of-type {\n",
       "        vertical-align: middle;\n",
       "    }\n",
       "\n",
       "    .dataframe tbody tr th {\n",
       "        vertical-align: top;\n",
       "    }\n",
       "\n",
       "    .dataframe thead th {\n",
       "        text-align: right;\n",
       "    }\n",
       "</style>\n",
       "<table border=\"1\" class=\"dataframe\">\n",
       "  <thead>\n",
       "    <tr style=\"text-align: right;\">\n",
       "      <th></th>\n",
       "      <th>Borough</th>\n",
       "      <th>2010 Census FIPS County Code</th>\n",
       "      <th>2010 DCP Borough Code</th>\n",
       "      <th>2010 Census Tract</th>\n",
       "      <th>Total Occupied Housing Units</th>\n",
       "      <th>census_fips</th>\n",
       "      <th>GEO_ID</th>\n",
       "    </tr>\n",
       "  </thead>\n",
       "  <tbody>\n",
       "    <tr>\n",
       "      <th>0</th>\n",
       "      <td>Bronx</td>\n",
       "      <td>5</td>\n",
       "      <td>2</td>\n",
       "      <td>100</td>\n",
       "      <td>0</td>\n",
       "      <td>005000100</td>\n",
       "      <td>1400000US36005000100</td>\n",
       "    </tr>\n",
       "    <tr>\n",
       "      <th>1</th>\n",
       "      <td>Bronx</td>\n",
       "      <td>5</td>\n",
       "      <td>2</td>\n",
       "      <td>200</td>\n",
       "      <td>1,351</td>\n",
       "      <td>005000200</td>\n",
       "      <td>1400000US36005000200</td>\n",
       "    </tr>\n",
       "    <tr>\n",
       "      <th>2</th>\n",
       "      <td>Bronx</td>\n",
       "      <td>5</td>\n",
       "      <td>2</td>\n",
       "      <td>400</td>\n",
       "      <td>1,786</td>\n",
       "      <td>005000400</td>\n",
       "      <td>1400000US36005000400</td>\n",
       "    </tr>\n",
       "    <tr>\n",
       "      <th>3</th>\n",
       "      <td>Bronx</td>\n",
       "      <td>5</td>\n",
       "      <td>2</td>\n",
       "      <td>1600</td>\n",
       "      <td>1,925</td>\n",
       "      <td>005001600</td>\n",
       "      <td>1400000US36005001600</td>\n",
       "    </tr>\n",
       "    <tr>\n",
       "      <th>4</th>\n",
       "      <td>Bronx</td>\n",
       "      <td>5</td>\n",
       "      <td>2</td>\n",
       "      <td>1900</td>\n",
       "      <td>550</td>\n",
       "      <td>005001900</td>\n",
       "      <td>1400000US36005001900</td>\n",
       "    </tr>\n",
       "  </tbody>\n",
       "</table>\n",
       "</div>"
      ],
      "text/plain": [
       "  Borough  2010 Census FIPS County Code  2010 DCP Borough Code  \\\n",
       "0   Bronx                             5                      2   \n",
       "1   Bronx                             5                      2   \n",
       "2   Bronx                             5                      2   \n",
       "3   Bronx                             5                      2   \n",
       "4   Bronx                             5                      2   \n",
       "\n",
       "   2010 Census Tract Total Occupied Housing Units\\r\\r census_fips  \\\n",
       "0                100                                0   005000100   \n",
       "1                200                            1,351   005000200   \n",
       "2                400                            1,786   005000400   \n",
       "3               1600                            1,925   005001600   \n",
       "4               1900                              550   005001900   \n",
       "\n",
       "                 GEO_ID  \n",
       "0  1400000US36005000100  \n",
       "1  1400000US36005000200  \n",
       "2  1400000US36005000400  \n",
       "3  1400000US36005001600  \n",
       "4  1400000US36005001900  "
      ]
     },
     "execution_count": 20,
     "metadata": {},
     "output_type": "execute_result"
    }
   ],
   "source": [
    "units_census .head()"
   ]
  },
  {
   "cell_type": "markdown",
   "metadata": {},
   "source": [
    "### 2. load income and violation file"
   ]
  },
  {
   "cell_type": "code",
   "execution_count": 4,
   "metadata": {},
   "outputs": [],
   "source": [
    "income_viol = pd.read_csv('income_violation.csv')"
   ]
  },
  {
   "cell_type": "code",
   "execution_count": 21,
   "metadata": {},
   "outputs": [
    {
     "data": {
      "text/html": [
       "<div>\n",
       "<style scoped>\n",
       "    .dataframe tbody tr th:only-of-type {\n",
       "        vertical-align: middle;\n",
       "    }\n",
       "\n",
       "    .dataframe tbody tr th {\n",
       "        vertical-align: top;\n",
       "    }\n",
       "\n",
       "    .dataframe thead th {\n",
       "        text-align: right;\n",
       "    }\n",
       "</style>\n",
       "<table border=\"1\" class=\"dataframe\">\n",
       "  <thead>\n",
       "    <tr style=\"text-align: right;\">\n",
       "      <th></th>\n",
       "      <th>GEO_ID</th>\n",
       "      <th>CENSUSAREA</th>\n",
       "      <th>income_change_field_1</th>\n",
       "      <th>income_change_Geo_FIPS</th>\n",
       "      <th>income_change_SE_T058_001</th>\n",
       "      <th>income_change_SE_T058_010</th>\n",
       "      <th>income_change_prec_change</th>\n",
       "      <th>NUMPOINTS</th>\n",
       "    </tr>\n",
       "  </thead>\n",
       "  <tbody>\n",
       "    <tr>\n",
       "      <th>0</th>\n",
       "      <td>1400000US36001000100</td>\n",
       "      <td>0.914</td>\n",
       "      <td>NaN</td>\n",
       "      <td>NaN</td>\n",
       "      <td>NaN</td>\n",
       "      <td>NaN</td>\n",
       "      <td>NaN</td>\n",
       "      <td>0</td>\n",
       "    </tr>\n",
       "    <tr>\n",
       "      <th>1</th>\n",
       "      <td>1400000US36001000200</td>\n",
       "      <td>0.797</td>\n",
       "      <td>NaN</td>\n",
       "      <td>NaN</td>\n",
       "      <td>NaN</td>\n",
       "      <td>NaN</td>\n",
       "      <td>NaN</td>\n",
       "      <td>0</td>\n",
       "    </tr>\n",
       "    <tr>\n",
       "      <th>2</th>\n",
       "      <td>1400000US36001000401</td>\n",
       "      <td>3.482</td>\n",
       "      <td>NaN</td>\n",
       "      <td>NaN</td>\n",
       "      <td>NaN</td>\n",
       "      <td>NaN</td>\n",
       "      <td>NaN</td>\n",
       "      <td>0</td>\n",
       "    </tr>\n",
       "    <tr>\n",
       "      <th>3</th>\n",
       "      <td>1400000US36001000501</td>\n",
       "      <td>0.211</td>\n",
       "      <td>NaN</td>\n",
       "      <td>NaN</td>\n",
       "      <td>NaN</td>\n",
       "      <td>NaN</td>\n",
       "      <td>NaN</td>\n",
       "      <td>0</td>\n",
       "    </tr>\n",
       "    <tr>\n",
       "      <th>4</th>\n",
       "      <td>1400000US36001001500</td>\n",
       "      <td>0.225</td>\n",
       "      <td>NaN</td>\n",
       "      <td>NaN</td>\n",
       "      <td>NaN</td>\n",
       "      <td>NaN</td>\n",
       "      <td>NaN</td>\n",
       "      <td>0</td>\n",
       "    </tr>\n",
       "  </tbody>\n",
       "</table>\n",
       "</div>"
      ],
      "text/plain": [
       "                 GEO_ID  CENSUSAREA  income_change_field_1  \\\n",
       "0  1400000US36001000100       0.914                    NaN   \n",
       "1  1400000US36001000200       0.797                    NaN   \n",
       "2  1400000US36001000401       3.482                    NaN   \n",
       "3  1400000US36001000501       0.211                    NaN   \n",
       "4  1400000US36001001500       0.225                    NaN   \n",
       "\n",
       "   income_change_Geo_FIPS  income_change_SE_T058_001  \\\n",
       "0                     NaN                        NaN   \n",
       "1                     NaN                        NaN   \n",
       "2                     NaN                        NaN   \n",
       "3                     NaN                        NaN   \n",
       "4                     NaN                        NaN   \n",
       "\n",
       "   income_change_SE_T058_010  income_change_prec_change  NUMPOINTS  \n",
       "0                        NaN                        NaN          0  \n",
       "1                        NaN                        NaN          0  \n",
       "2                        NaN                        NaN          0  \n",
       "3                        NaN                        NaN          0  \n",
       "4                        NaN                        NaN          0  "
      ]
     },
     "execution_count": 21,
     "metadata": {},
     "output_type": "execute_result"
    }
   ],
   "source": [
    "income_viol .head()"
   ]
  },
  {
   "cell_type": "markdown",
   "metadata": {},
   "source": [
    "### 3. merge"
   ]
  },
  {
   "cell_type": "code",
   "execution_count": 5,
   "metadata": {},
   "outputs": [],
   "source": [
    "income_viol_units = pd.merge(income_viol,units_census, on='GEO_ID', how='inner') "
   ]
  },
  {
   "cell_type": "code",
   "execution_count": 6,
   "metadata": {},
   "outputs": [
    {
     "data": {
      "text/plain": [
       "2167"
      ]
     },
     "execution_count": 6,
     "metadata": {},
     "output_type": "execute_result"
    }
   ],
   "source": [
    "len(income_viol_units)"
   ]
  },
  {
   "cell_type": "code",
   "execution_count": 23,
   "metadata": {},
   "outputs": [
    {
     "data": {
      "text/html": [
       "<div>\n",
       "<style scoped>\n",
       "    .dataframe tbody tr th:only-of-type {\n",
       "        vertical-align: middle;\n",
       "    }\n",
       "\n",
       "    .dataframe tbody tr th {\n",
       "        vertical-align: top;\n",
       "    }\n",
       "\n",
       "    .dataframe thead th {\n",
       "        text-align: right;\n",
       "    }\n",
       "</style>\n",
       "<table border=\"1\" class=\"dataframe\">\n",
       "  <thead>\n",
       "    <tr style=\"text-align: right;\">\n",
       "      <th></th>\n",
       "      <th>GEO_ID</th>\n",
       "      <th>CENSUSAREA</th>\n",
       "      <th>income_change_field_1</th>\n",
       "      <th>income_change_Geo_FIPS</th>\n",
       "      <th>income_change_SE_T058_001</th>\n",
       "      <th>income_change_SE_T058_010</th>\n",
       "      <th>income_change_prec_change</th>\n",
       "      <th>NUMPOINTS</th>\n",
       "      <th>Borough</th>\n",
       "      <th>2010 Census FIPS County Code</th>\n",
       "      <th>2010 DCP Borough Code</th>\n",
       "      <th>2010 Census Tract</th>\n",
       "      <th>Total Occupied Housing Units</th>\n",
       "      <th>census_fips</th>\n",
       "      <th>norm_viol</th>\n",
       "    </tr>\n",
       "  </thead>\n",
       "  <tbody>\n",
       "    <tr>\n",
       "      <th>1</th>\n",
       "      <td>1400000US36005000200</td>\n",
       "      <td>0.176</td>\n",
       "      <td>1.0</td>\n",
       "      <td>1.645262e+09</td>\n",
       "      <td>59826.0</td>\n",
       "      <td>25441.0</td>\n",
       "      <td>-57.47501</td>\n",
       "      <td>223</td>\n",
       "      <td>Bronx</td>\n",
       "      <td>5</td>\n",
       "      <td>2</td>\n",
       "      <td>200</td>\n",
       "      <td>1,351</td>\n",
       "      <td>005000200</td>\n",
       "      <td>16.506292</td>\n",
       "    </tr>\n",
       "    <tr>\n",
       "      <th>2</th>\n",
       "      <td>1400000US36005000400</td>\n",
       "      <td>0.352</td>\n",
       "      <td>2.0</td>\n",
       "      <td>1.645262e+09</td>\n",
       "      <td>71968.0</td>\n",
       "      <td>19620.0</td>\n",
       "      <td>-72.73788</td>\n",
       "      <td>191</td>\n",
       "      <td>Bronx</td>\n",
       "      <td>5</td>\n",
       "      <td>2</td>\n",
       "      <td>400</td>\n",
       "      <td>1,786</td>\n",
       "      <td>005000400</td>\n",
       "      <td>10.694289</td>\n",
       "    </tr>\n",
       "    <tr>\n",
       "      <th>5</th>\n",
       "      <td>1400000US36005004001</td>\n",
       "      <td>0.048</td>\n",
       "      <td>17.0</td>\n",
       "      <td>1.645266e+09</td>\n",
       "      <td>44432.0</td>\n",
       "      <td>44318.0</td>\n",
       "      <td>-0.25657</td>\n",
       "      <td>62</td>\n",
       "      <td>Bronx</td>\n",
       "      <td>5</td>\n",
       "      <td>2</td>\n",
       "      <td>4001</td>\n",
       "      <td>536</td>\n",
       "      <td>005004001</td>\n",
       "      <td>11.567164</td>\n",
       "    </tr>\n",
       "    <tr>\n",
       "      <th>9</th>\n",
       "      <td>1400000US36005006400</td>\n",
       "      <td>0.063</td>\n",
       "      <td>30.0</td>\n",
       "      <td>1.645268e+09</td>\n",
       "      <td>42596.0</td>\n",
       "      <td>53750.0</td>\n",
       "      <td>26.18556</td>\n",
       "      <td>220</td>\n",
       "      <td>Bronx</td>\n",
       "      <td>5</td>\n",
       "      <td>2</td>\n",
       "      <td>6400</td>\n",
       "      <td>1,311</td>\n",
       "      <td>005006400</td>\n",
       "      <td>16.781083</td>\n",
       "    </tr>\n",
       "    <tr>\n",
       "      <th>11</th>\n",
       "      <td>1400000US36005007300</td>\n",
       "      <td>0.054</td>\n",
       "      <td>38.0</td>\n",
       "      <td>1.645269e+09</td>\n",
       "      <td>26364.0</td>\n",
       "      <td>9408.0</td>\n",
       "      <td>-64.31497</td>\n",
       "      <td>367</td>\n",
       "      <td>Bronx</td>\n",
       "      <td>5</td>\n",
       "      <td>2</td>\n",
       "      <td>7300</td>\n",
       "      <td>1,282</td>\n",
       "      <td>005007300</td>\n",
       "      <td>28.627145</td>\n",
       "    </tr>\n",
       "  </tbody>\n",
       "</table>\n",
       "</div>"
      ],
      "text/plain": [
       "                  GEO_ID  CENSUSAREA  income_change_field_1  \\\n",
       "1   1400000US36005000200       0.176                    1.0   \n",
       "2   1400000US36005000400       0.352                    2.0   \n",
       "5   1400000US36005004001       0.048                   17.0   \n",
       "9   1400000US36005006400       0.063                   30.0   \n",
       "11  1400000US36005007300       0.054                   38.0   \n",
       "\n",
       "    income_change_Geo_FIPS  income_change_SE_T058_001  \\\n",
       "1             1.645262e+09                    59826.0   \n",
       "2             1.645262e+09                    71968.0   \n",
       "5             1.645266e+09                    44432.0   \n",
       "9             1.645268e+09                    42596.0   \n",
       "11            1.645269e+09                    26364.0   \n",
       "\n",
       "    income_change_SE_T058_010  income_change_prec_change  NUMPOINTS Borough  \\\n",
       "1                     25441.0                  -57.47501        223   Bronx   \n",
       "2                     19620.0                  -72.73788        191   Bronx   \n",
       "5                     44318.0                   -0.25657         62   Bronx   \n",
       "9                     53750.0                   26.18556        220   Bronx   \n",
       "11                     9408.0                  -64.31497        367   Bronx   \n",
       "\n",
       "    2010 Census FIPS County Code  2010 DCP Borough Code  2010 Census Tract  \\\n",
       "1                              5                      2                200   \n",
       "2                              5                      2                400   \n",
       "5                              5                      2               4001   \n",
       "9                              5                      2               6400   \n",
       "11                             5                      2               7300   \n",
       "\n",
       "   Total Occupied Housing Units\\r\\r census_fips  norm_viol  \n",
       "1                             1,351   005000200  16.506292  \n",
       "2                             1,786   005000400  10.694289  \n",
       "5                               536   005004001  11.567164  \n",
       "9                             1,311   005006400  16.781083  \n",
       "11                            1,282   005007300  28.627145  "
      ]
     },
     "execution_count": 23,
     "metadata": {},
     "output_type": "execute_result"
    }
   ],
   "source": [
    "income_viol_units .head()"
   ]
  },
  {
   "cell_type": "markdown",
   "metadata": {},
   "source": [
    "### 4. normalize violations"
   ]
  },
  {
   "cell_type": "code",
   "execution_count": 7,
   "metadata": {},
   "outputs": [],
   "source": [
    "income_viol_units['norm_viol'] = (income_viol_units['NUMPOINTS'] / [int(\"\".join(x.split(','))) for x in income_viol_units['Total Occupied Housing Units\\r\\r']])*100\n"
   ]
  },
  {
   "cell_type": "code",
   "execution_count": 22,
   "metadata": {},
   "outputs": [
    {
     "data": {
      "text/plain": [
       "1     16.506292\n",
       "2     10.694289\n",
       "5     11.567164\n",
       "9     16.781083\n",
       "11    28.627145\n",
       "Name: norm_viol, dtype: float64"
      ]
     },
     "execution_count": 22,
     "metadata": {},
     "output_type": "execute_result"
    }
   ],
   "source": [
    "income_viol_units['norm_viol'].head()"
   ]
  },
  {
   "cell_type": "markdown",
   "metadata": {},
   "source": [
    "### 5. cleaning"
   ]
  },
  {
   "cell_type": "code",
   "execution_count": 8,
   "metadata": {},
   "outputs": [],
   "source": [
    "income_viol_units = income_viol_units[pd.notnull(income_viol_units['income_change_prec_change'])]"
   ]
  },
  {
   "cell_type": "code",
   "execution_count": 9,
   "metadata": {},
   "outputs": [
    {
     "data": {
      "text/plain": [
       "1789"
      ]
     },
     "execution_count": 9,
     "metadata": {},
     "output_type": "execute_result"
    }
   ],
   "source": [
    "len(income_viol_units )"
   ]
  },
  {
   "cell_type": "code",
   "execution_count": 10,
   "metadata": {},
   "outputs": [],
   "source": [
    "income_viol_units = income_viol_units.dropna(subset = ['norm_viol'])"
   ]
  },
  {
   "cell_type": "code",
   "execution_count": 11,
   "metadata": {},
   "outputs": [
    {
     "data": {
      "text/plain": [
       "1789"
      ]
     },
     "execution_count": 11,
     "metadata": {},
     "output_type": "execute_result"
    }
   ],
   "source": [
    "len(income_viol_units)"
   ]
  },
  {
   "cell_type": "markdown",
   "metadata": {},
   "source": [
    "### OLS"
   ]
  },
  {
   "cell_type": "code",
   "execution_count": 12,
   "metadata": {},
   "outputs": [],
   "source": [
    " import statsmodels.api as sm"
   ]
  },
  {
   "cell_type": "code",
   "execution_count": 13,
   "metadata": {},
   "outputs": [],
   "source": [
    "y = income_viol_units['norm_viol']\n",
    "X = income_viol_units['income_change_prec_change']"
   ]
  },
  {
   "cell_type": "code",
   "execution_count": 14,
   "metadata": {},
   "outputs": [
    {
     "data": {
      "text/html": [
       "<table class=\"simpletable\">\n",
       "<caption>OLS Regression Results</caption>\n",
       "<tr>\n",
       "  <th>Dep. Variable:</th>        <td>norm_viol</td>    <th>  R-squared:         </th> <td>   0.051</td> \n",
       "</tr>\n",
       "<tr>\n",
       "  <th>Model:</th>                   <td>OLS</td>       <th>  Adj. R-squared:    </th> <td>   0.050</td> \n",
       "</tr>\n",
       "<tr>\n",
       "  <th>Method:</th>             <td>Least Squares</td>  <th>  F-statistic:       </th> <td>   95.72</td> \n",
       "</tr>\n",
       "<tr>\n",
       "  <th>Date:</th>             <td>Fri, 04 Jan 2019</td> <th>  Prob (F-statistic):</th> <td>4.68e-22</td> \n",
       "</tr>\n",
       "<tr>\n",
       "  <th>Time:</th>                 <td>01:39:43</td>     <th>  Log-Likelihood:    </th> <td> -7750.6</td> \n",
       "</tr>\n",
       "<tr>\n",
       "  <th>No. Observations:</th>      <td>  1789</td>      <th>  AIC:               </th> <td>1.550e+04</td>\n",
       "</tr>\n",
       "<tr>\n",
       "  <th>Df Residuals:</th>          <td>  1788</td>      <th>  BIC:               </th> <td>1.551e+04</td>\n",
       "</tr>\n",
       "<tr>\n",
       "  <th>Df Model:</th>              <td>     1</td>      <th>                     </th>     <td> </td>    \n",
       "</tr>\n",
       "<tr>\n",
       "  <th>Covariance Type:</th>      <td>nonrobust</td>    <th>                     </th>     <td> </td>    \n",
       "</tr>\n",
       "</table>\n",
       "<table class=\"simpletable\">\n",
       "<tr>\n",
       "              <td></td>                 <th>coef</th>     <th>std err</th>      <th>t</th>      <th>P>|t|</th>  <th>[0.025</th>    <th>0.975]</th>  \n",
       "</tr>\n",
       "<tr>\n",
       "  <th>income_change_prec_change</th> <td>    0.0708</td> <td>    0.007</td> <td>    9.784</td> <td> 0.000</td> <td>    0.057</td> <td>    0.085</td>\n",
       "</tr>\n",
       "</table>\n",
       "<table class=\"simpletable\">\n",
       "<tr>\n",
       "  <th>Omnibus:</th>       <td>921.773</td> <th>  Durbin-Watson:     </th> <td>   0.761</td>\n",
       "</tr>\n",
       "<tr>\n",
       "  <th>Prob(Omnibus):</th> <td> 0.000</td>  <th>  Jarque-Bera (JB):  </th> <td>5836.419</td>\n",
       "</tr>\n",
       "<tr>\n",
       "  <th>Skew:</th>          <td> 2.397</td>  <th>  Prob(JB):          </th> <td>    0.00</td>\n",
       "</tr>\n",
       "<tr>\n",
       "  <th>Kurtosis:</th>      <td>10.437</td>  <th>  Cond. No.          </th> <td>    1.00</td>\n",
       "</tr>\n",
       "</table><br/><br/>Warnings:<br/>[1] Standard Errors assume that the covariance matrix of the errors is correctly specified."
      ],
      "text/plain": [
       "<class 'statsmodels.iolib.summary.Summary'>\n",
       "\"\"\"\n",
       "                            OLS Regression Results                            \n",
       "==============================================================================\n",
       "Dep. Variable:              norm_viol   R-squared:                       0.051\n",
       "Model:                            OLS   Adj. R-squared:                  0.050\n",
       "Method:                 Least Squares   F-statistic:                     95.72\n",
       "Date:                Fri, 04 Jan 2019   Prob (F-statistic):           4.68e-22\n",
       "Time:                        01:39:43   Log-Likelihood:                -7750.6\n",
       "No. Observations:                1789   AIC:                         1.550e+04\n",
       "Df Residuals:                    1788   BIC:                         1.551e+04\n",
       "Df Model:                           1                                         \n",
       "Covariance Type:            nonrobust                                         \n",
       "=============================================================================================\n",
       "                                coef    std err          t      P>|t|      [0.025      0.975]\n",
       "---------------------------------------------------------------------------------------------\n",
       "income_change_prec_change     0.0708      0.007      9.784      0.000       0.057       0.085\n",
       "==============================================================================\n",
       "Omnibus:                      921.773   Durbin-Watson:                   0.761\n",
       "Prob(Omnibus):                  0.000   Jarque-Bera (JB):             5836.419\n",
       "Skew:                           2.397   Prob(JB):                         0.00\n",
       "Kurtosis:                      10.437   Cond. No.                         1.00\n",
       "==============================================================================\n",
       "\n",
       "Warnings:\n",
       "[1] Standard Errors assume that the covariance matrix of the errors is correctly specified.\n",
       "\"\"\""
      ]
     },
     "execution_count": 14,
     "metadata": {},
     "output_type": "execute_result"
    }
   ],
   "source": [
    "model = sm.OLS(y.astype(float), X.astype(float)).fit()\n",
    "\n",
    "predictions = model.predict(X)\n",
    "\n",
    "\n",
    "model.summary()"
   ]
  },
  {
   "cell_type": "markdown",
   "metadata": {},
   "source": [
    "## Plots / Descriptives: "
   ]
  },
  {
   "cell_type": "code",
   "execution_count": 15,
   "metadata": {},
   "outputs": [
    {
     "data": {
      "text/plain": [
       "<matplotlib.axes._subplots.AxesSubplot at 0x11c7f4a90>"
      ]
     },
     "execution_count": 15,
     "metadata": {},
     "output_type": "execute_result"
    },
    {
     "data": {
      "image/png": "[encoded data removed]",
      "text/plain": [
       "<Figure size 2160x936 with 1 Axes>"
      ]
     },
     "metadata": {
      "needs_background": "light"
     },
     "output_type": "display_data"
    }
   ],
   "source": [
    "income_viol_units.plot(x=\"GEO_ID\", y=[\"norm_viol\", \"income_change_prec_change\"], kind=\"bar\", figsize=(30,13))"
   ]
  },
  {
   "cell_type": "code",
   "execution_count": 16,
   "metadata": {},
   "outputs": [
    {
     "data": {
      "text/plain": [
       "count    1789.000000\n",
       "mean       11.041503\n",
       "std        15.351153\n",
       "min         0.000000\n",
       "25%         1.629328\n",
       "50%         4.896755\n",
       "75%        12.978890\n",
       "max       113.661202\n",
       "Name: norm_viol, dtype: float64"
      ]
     },
     "execution_count": 16,
     "metadata": {},
     "output_type": "execute_result"
    }
   ],
   "source": [
    "# violations norm descrptives \n",
    "\n",
    "income_viol_units['norm_viol'].describe()"
   ]
  },
  {
   "cell_type": "code",
   "execution_count": 17,
   "metadata": {},
   "outputs": [
    {
     "data": {
      "text/plain": [
       "count    1789.000000\n",
       "mean       12.090983\n",
       "std        58.980530\n",
       "min       -96.385330\n",
       "25%       -10.185020\n",
       "50%         1.150570\n",
       "75%        19.294700\n",
       "max       591.025990\n",
       "Name: income_change_prec_change, dtype: float64"
      ]
     },
     "execution_count": 17,
     "metadata": {},
     "output_type": "execute_result"
    }
   ],
   "source": [
    "#Income change describe\n",
    "income_viol_units['income_change_prec_change'].describe()"
   ]
  },
  {
   "cell_type": "code",
   "execution_count": 18,
   "metadata": {},
   "outputs": [
    {
     "data": {
      "text/plain": [
       "count    1789.000000\n",
       "mean       12.090983\n",
       "std        58.980530\n",
       "min       -96.385330\n",
       "25%       -10.185020\n",
       "50%         1.150570\n",
       "75%        19.294700\n",
       "max       591.025990\n",
       "Name: income_change_prec_change, dtype: float64"
      ]
     },
     "execution_count": 18,
     "metadata": {},
     "output_type": "execute_result"
    }
   ],
   "source": [
    "#Income change describe\n",
    "income_viol_units['income_change_prec_change'].describe()"
   ]
  },
  {
   "cell_type": "code",
   "execution_count": 19,
   "metadata": {},
   "outputs": [
    {
     "data": {
      "text/plain": [
       "count    1789.000000\n",
       "mean      176.120179\n",
       "std       293.784451\n",
       "min         0.000000\n",
       "25%        19.000000\n",
       "50%        64.000000\n",
       "75%       187.000000\n",
       "max      3101.000000\n",
       "Name: NUMPOINTS, dtype: float64"
      ]
     },
     "execution_count": 19,
     "metadata": {},
     "output_type": "execute_result"
    }
   ],
   "source": [
    "#of violations per census tract describe  \n",
    "income_viol_units['NUMPOINTS'].describe()"
   ]
  },
  {
   "cell_type": "code",
   "execution_count": null,
   "metadata": {},
   "outputs": [],
   "source": []
  }
 ],
 "metadata": {
  "kernelspec": {
   "display_name": "Python 3",
   "language": "python",
   "name": "python3"
  },
  "language_info": {
   "codemirror_mode": {
    "name": "ipython",
    "version": 3
   },
   "file_extension": ".py",
   "mimetype": "text/x-python",
   "name": "python",
   "nbconvert_exporter": "python",
   "pygments_lexer": "ipython3",
   "version": "3.6.6"
  }
 },
 "nbformat": 4,
 "nbformat_minor": 2
}
