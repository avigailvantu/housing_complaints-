{
 "cells": [
  {
   "cell_type": "code",
   "execution_count": 215,
   "metadata": {},
   "outputs": [
    {
     "name": "stdout",
     "output_type": "stream",
     "text": [
      "Populating the interactive namespace from numpy and matplotlib\n"
     ]
    },
    {
     "name": "stderr",
     "output_type": "stream",
     "text": [
      "/Users/avigailvantu/anaconda2/lib/python2.7/site-packages/sklearn/cross_validation.py:41: DeprecationWarning: This module was deprecated in version 0.18 in favor of the model_selection module into which all the refactored classes and functions are moved. Also note that the interface of the new CV iterators are different from that of this module. This module will be removed in 0.20.\n",
      "  \"This module will be removed in 0.20.\", DeprecationWarning)\n"
     ]
    }
   ],
   "source": [
    "import numpy as np\n",
    "import pandas as pd\n",
    "import geopandas as gpd\n",
    "import matplotlib.pyplot as plt\n",
    "import matplotlib.pyplot as plt\n",
    "\n",
    "import matplotlib.pyplot as plt \n",
    "plt.rc(\"font\", size=14)\n",
    "from sklearn.linear_model import LogisticRegression\n",
    "from sklearn.cross_validation import train_test_split\n",
    "\n",
    "%pylab inline\n",
    "%matplotlib inline"
   ]
  },
  {
   "cell_type": "code",
   "execution_count": 102,
   "metadata": {},
   "outputs": [],
   "source": [
    "comp = pd.read_csv('Housing_Maintenance_Code_Complaints.csv')\n",
    "prob = pd.read_csv('Complaint_Problems.csv')\n",
    "bbl = pd.read_csv('pluto.csv')\n",
    "pop_b = pd.read_csv('NYC_Population_by_Borough.csv')"
   ]
  },
  {
   "cell_type": "code",
   "execution_count": 142,
   "metadata": {},
   "outputs": [
    {
     "name": "stdout",
     "output_type": "stream",
     "text": [
      "(1114739, 15)\n",
      "(2057764, 18)\n"
     ]
    }
   ],
   "source": [
    "print(comp.shape)\n",
    "print(prob.shape)\n"
   ]
  },
  {
   "cell_type": "code",
   "execution_count": 73,
   "metadata": {},
   "outputs": [
    {
     "name": "stdout",
     "output_type": "stream",
     "text": [
      "  these are the complains columns: Index([u'ComplaintID', u'BuildingID', u'BoroughID', u'Borough', u'HouseNumber',\n",
      "       u'StreetName', u'Zip', u'Block', u'Lot', u'Apartment',\n",
      "       u'CommunityBoard', u'ReceivedDate', u'StatusID', u'Status',\n",
      "       u'StatusDate'],\n",
      "      dtype='object')\n",
      "  these are the problems columns: Index([u'ProblemID', u'ComplaintID', u'UnitTypeID', u'UnitType',\n",
      "       u'SpaceTypeID ', u'SpaceType', u'TypeID', u'Type', u'MajorCategoryID',\n",
      "       u'MajorCategory', u'MinorCategoryID', u'MinorCategory', u'CodeID',\n",
      "       u'Code', u'StatusID', u'Status', u'StatusDate', u'StatusDescription'],\n",
      "      dtype='object')\n"
     ]
    }
   ],
   "source": [
    "print \"  these are the complains columns:\", comp.columns\n",
    "                                            \n",
    "\n",
    "print \"  these are the problems columns:\", prob.columns"
   ]
  },
  {
   "cell_type": "code",
   "execution_count": 74,
   "metadata": {},
   "outputs": [
    {
     "name": "stdout",
     "output_type": "stream",
     "text": [
      " number of problems: 2057764\n",
      " number of complaints: 1114739\n"
     ]
    }
   ],
   "source": [
    "print \" number of problems:\",len(prob)\n",
    "print \" number of complaints:\", len(comp)"
   ]
  },
  {
   "cell_type": "code",
   "execution_count": 250,
   "metadata": {},
   "outputs": [
    {
     "name": "stdout",
     "output_type": "stream",
     "text": [
      "MN 0.22633997734\n",
      "BX 0.307936656024\n",
      "BK 0.321621473726\n",
      "QN 0.130029540547\n",
      "SI 0.0140723523623\n"
     ]
    }
   ],
   "source": [
    "# the share of the compliants by borough\n",
    "print \"MN\", float(252310)/float(1114739)\n",
    "print \"BX\", float(343269)/float(1114739)\n",
    "print \"BK\", float(358524)/float(1114739)\n",
    "print \"QN\", float(144949)/float(1114739)\n",
    "print \"SI\", float(15687)/float(1114739)\n"
   ]
  },
  {
   "cell_type": "markdown",
   "metadata": {},
   "source": [
    "### borough key: \n",
    "MN = 1 \n",
    "BX = 2\n",
    "BK = 3\n",
    "QN = 4\n",
    "SI = 5\n",
    "\n",
    "\n"
   ]
  },
  {
   "cell_type": "code",
   "execution_count": 96,
   "metadata": {},
   "outputs": [
    {
     "name": "stdout",
     "output_type": "stream",
     "text": [
      "MN complaints 252310\n",
      "BX complaints 343269\n",
      "BK complaints 358524\n",
      "QN complaints 144949\n",
      "SI complaints 15687\n"
     ]
    }
   ],
   "source": [
    "# total nuimber of complaints per borough\n",
    "print \"MN complaints\", len(comp[comp['BoroughID']== 1])\n",
    "print \"BX complaints\", len(comp[comp['BoroughID']== 2])\n",
    "print \"BK complaints\", len(comp[comp['BoroughID']== 3])\n",
    "print \"QN complaints\", len(comp[comp['BoroughID']== 4])\n",
    "print \"SI complaints\", len(comp[comp['BoroughID']== 5])"
   ]
  },
  {
   "cell_type": "code",
   "execution_count": 101,
   "metadata": {},
   "outputs": [
    {
     "data": {
      "image/png": "[encoded data removed]",
      "text/plain": [
       "<matplotlib.figure.Figure at 0x1132bd090>"
      ]
     },
     "metadata": {},
     "output_type": "display_data"
    }
   ],
   "source": [
    "#ploting complaints per boroughs\n",
    "borough = ('MN', 'BX', 'BK', 'QN', 'SI')\n",
    "y_pos = np.arange(len(borough))\n",
    "complaints = [252310,343269,358524,144949,15687]\n",
    "\n",
    "plt.bar(y_pos, complaints, align='center', alpha=0.5)\n",
    "plt.xticks(y_pos, borough)\n",
    "plt.ylabel('# of complaints')\n",
    "plt.title('complaints per borough')\n",
    " \n",
    "plt.show()"
   ]
  },
  {
   "cell_type": "code",
   "execution_count": 258,
   "metadata": {},
   "outputs": [
    {
     "data": {
      "text/html": [
       "<img src=\"http://www1.nyc.gov/assets/planning/images/content/pages/data-maps/nyc-population/dcp-pop-change-2010-2016.jpg\" width=\"500\" height=\"500\"/>"
      ],
      "text/plain": [
       "<IPython.core.display.Image object>"
      ]
     },
     "execution_count": 258,
     "metadata": {},
     "output_type": "execute_result"
    }
   ],
   "source": [
    "from IPython.display import Image\n",
    "from IPython.core.display import HTML \n",
    "Image(url= \"http://my_site.com/my_picture.jpg\")\n",
    "\n",
    "Image(url= \"http://www1.nyc.gov/assets/planning/images/content/pages/data-maps/nyc-population/dcp-pop-change-2010-2016.jpg\", width=500, height=500)"
   ]
  },
  {
   "cell_type": "code",
   "execution_count": 275,
   "metadata": {},
   "outputs": [
    {
     "name": "stdout",
     "output_type": "stream",
     "text": [
      "NYC total popluation 8537673.0\n"
     ]
    }
   ],
   "source": [
    "print \"NYC total popluation\", float(1643734)+float(1455720)+float(2629150)+float(2333054)+float(476015)"
   ]
  },
  {
   "cell_type": "code",
   "execution_count": 282,
   "metadata": {},
   "outputs": [
    {
     "name": "stdout",
     "output_type": "stream",
     "text": [
      "MN pop % 19.2527167531\n",
      "BX pop % 17.0505476141\n",
      "BK pop % 30.7946907782\n",
      "QN pop % 27.3265795024\n",
      "SI pop % 5.57546535221\n"
     ]
    }
   ],
   "source": [
    "# share of total poluaiton per borough \n",
    "\n",
    "print \"MN pop %\", float(1643734)/float(8537673)*100\n",
    "print \"BX pop %\", float(1455720)/float(8537673)*100\n",
    "print \"BK pop %\", float(2629150)/float(8537673)*100\n",
    "print \"QN pop %\", float(2333054)/float(8537673)*100\n",
    "print \"SI pop %\", float(476015)/float(8537673)*100"
   ]
  },
  {
   "cell_type": "code",
   "execution_count": 287,
   "metadata": {},
   "outputs": [
    {
     "name": "stdout",
     "output_type": "stream",
     "text": [
      "100.0\n"
     ]
    }
   ],
   "source": [
    "# check they all sum up together to 100% \n",
    "a = float(1643734)/float(8537673)*100\n",
    "b = float(1455720)/float(8537673)*100\n",
    "c = float(2629150)/float(8537673)*100\n",
    "d = float(2333054)/float(8537673)*100\n",
    "e = float(476015)/float(8537673)*100\n",
    "\n",
    "print float(a)+float(b)+float(c)+float(d)+float(e)"
   ]
  },
  {
   "cell_type": "code",
   "execution_count": 259,
   "metadata": {},
   "outputs": [
    {
     "name": "stdout",
     "output_type": "stream",
     "text": [
      "MN 0.153498072072\n",
      "BX 0.235807023329\n",
      "BK 0.136364984881\n",
      "QN 0.0621284376615\n",
      "SI 0.03295484386\n"
     ]
    }
   ],
   "source": [
    "# cimpliants per capita: \n",
    "# acording to DCP pop estiamates \n",
    "\n",
    "print \"MN\", float(252310)/float(1643734)\n",
    "print \"BX\", float(343269)/float(1455720)\n",
    "print \"BK\", float(358524)/float(2629150)\n",
    "print \"QN\", float(144949)/float(2333054)\n",
    "print \"SI\", float(15687)/float(476015)"
   ]
  },
  {
   "cell_type": "code",
   "execution_count": 260,
   "metadata": {},
   "outputs": [
    {
     "name": "stdout",
     "output_type": "stream",
     "text": [
      "MN 0.330315272974\n",
      "BX 0.710041803789\n",
      "BK 0.391036324134\n",
      "QN 0.185804180655\n",
      "SI 0.0947763358225\n"
     ]
    }
   ],
   "source": [
    "# compliants per houshold unit: \n",
    "print \"MN\", float(252310)/float(763846)\n",
    "print \"BX\", float(343269)/float(483449)\n",
    "print \"BK\", float(358524)/float(916856)\n",
    "print \"QN\", float(144949)/float(780117)\n",
    "print \"SI\", float(15687)/float(165516)"
   ]
  },
  {
   "cell_type": "code",
   "execution_count": 125,
   "metadata": {},
   "outputs": [
    {
     "data": {
      "text/plain": [
       "12"
      ]
     },
     "execution_count": 125,
     "metadata": {},
     "output_type": "execute_result"
    }
   ],
   "source": [
    "3123068/252310"
   ]
  },
  {
   "cell_type": "code",
   "execution_count": null,
   "metadata": {
    "collapsed": true
   },
   "outputs": [],
   "source": []
  },
  {
   "cell_type": "code",
   "execution_count": 77,
   "metadata": {},
   "outputs": [
    {
     "data": {
      "text/html": [
       "<div>\n",
       "<style>\n",
       "    .dataframe thead tr:only-child th {\n",
       "        text-align: right;\n",
       "    }\n",
       "\n",
       "    .dataframe thead th {\n",
       "        text-align: left;\n",
       "    }\n",
       "\n",
       "    .dataframe tbody tr th {\n",
       "        vertical-align: top;\n",
       "    }\n",
       "</style>\n",
       "<table border=\"1\" class=\"dataframe\">\n",
       "  <thead>\n",
       "    <tr style=\"text-align: right;\">\n",
       "      <th></th>\n",
       "      <th>ComplaintID</th>\n",
       "      <th>BuildingID</th>\n",
       "      <th>BoroughID</th>\n",
       "      <th>Borough</th>\n",
       "      <th>HouseNumber</th>\n",
       "      <th>StreetName</th>\n",
       "      <th>Zip</th>\n",
       "      <th>Block</th>\n",
       "      <th>Lot</th>\n",
       "      <th>Apartment</th>\n",
       "      <th>CommunityBoard</th>\n",
       "      <th>ReceivedDate</th>\n",
       "      <th>StatusID</th>\n",
       "      <th>Status</th>\n",
       "      <th>StatusDate</th>\n",
       "    </tr>\n",
       "  </thead>\n",
       "  <tbody>\n",
       "    <tr>\n",
       "      <th>0</th>\n",
       "      <td>6960137</td>\n",
       "      <td>3418</td>\n",
       "      <td>1</td>\n",
       "      <td>MANHATTAN</td>\n",
       "      <td>1989</td>\n",
       "      <td>ADAM C POWELL BOULEVARD</td>\n",
       "      <td>10026.0</td>\n",
       "      <td>1904</td>\n",
       "      <td>4</td>\n",
       "      <td>12D</td>\n",
       "      <td>10</td>\n",
       "      <td>07/07/2014</td>\n",
       "      <td>2</td>\n",
       "      <td>CLOSE</td>\n",
       "      <td>07/29/2014</td>\n",
       "    </tr>\n",
       "    <tr>\n",
       "      <th>1</th>\n",
       "      <td>6960832</td>\n",
       "      <td>3512</td>\n",
       "      <td>1</td>\n",
       "      <td>MANHATTAN</td>\n",
       "      <td>2267</td>\n",
       "      <td>ADAM C POWELL BOULEVARD</td>\n",
       "      <td>10030.0</td>\n",
       "      <td>1918</td>\n",
       "      <td>4</td>\n",
       "      <td>3B</td>\n",
       "      <td>10</td>\n",
       "      <td>07/08/2014</td>\n",
       "      <td>2</td>\n",
       "      <td>CLOSE</td>\n",
       "      <td>07/12/2014</td>\n",
       "    </tr>\n",
       "    <tr>\n",
       "      <th>2</th>\n",
       "      <td>6946867</td>\n",
       "      <td>5318</td>\n",
       "      <td>1</td>\n",
       "      <td>MANHATTAN</td>\n",
       "      <td>778</td>\n",
       "      <td>11 AVENUE</td>\n",
       "      <td>10019.0</td>\n",
       "      <td>1083</td>\n",
       "      <td>1</td>\n",
       "      <td>4P</td>\n",
       "      <td>4</td>\n",
       "      <td>06/19/2014</td>\n",
       "      <td>2</td>\n",
       "      <td>CLOSE</td>\n",
       "      <td>07/13/2014</td>\n",
       "    </tr>\n",
       "    <tr>\n",
       "      <th>3</th>\n",
       "      <td>6966946</td>\n",
       "      <td>5608</td>\n",
       "      <td>1</td>\n",
       "      <td>MANHATTAN</td>\n",
       "      <td>1640</td>\n",
       "      <td>AMSTERDAM AVENUE</td>\n",
       "      <td>10031.0</td>\n",
       "      <td>2073</td>\n",
       "      <td>29</td>\n",
       "      <td>5A</td>\n",
       "      <td>9</td>\n",
       "      <td>07/16/2014</td>\n",
       "      <td>2</td>\n",
       "      <td>CLOSE</td>\n",
       "      <td>07/21/2014</td>\n",
       "    </tr>\n",
       "    <tr>\n",
       "      <th>4</th>\n",
       "      <td>6956574</td>\n",
       "      <td>17896</td>\n",
       "      <td>1</td>\n",
       "      <td>MANHATTAN</td>\n",
       "      <td>230</td>\n",
       "      <td>EAST 88 STREET</td>\n",
       "      <td>10128.0</td>\n",
       "      <td>1533</td>\n",
       "      <td>32</td>\n",
       "      <td>1E</td>\n",
       "      <td>8</td>\n",
       "      <td>07/01/2014</td>\n",
       "      <td>2</td>\n",
       "      <td>CLOSE</td>\n",
       "      <td>07/09/2014</td>\n",
       "    </tr>\n",
       "    <tr>\n",
       "      <th>5</th>\n",
       "      <td>6959035</td>\n",
       "      <td>19899</td>\n",
       "      <td>1</td>\n",
       "      <td>MANHATTAN</td>\n",
       "      <td>428</td>\n",
       "      <td>EAST 117 STREET</td>\n",
       "      <td>10035.0</td>\n",
       "      <td>1710</td>\n",
       "      <td>36</td>\n",
       "      <td>3D</td>\n",
       "      <td>11</td>\n",
       "      <td>07/04/2014</td>\n",
       "      <td>2</td>\n",
       "      <td>CLOSE</td>\n",
       "      <td>07/10/2014</td>\n",
       "    </tr>\n",
       "    <tr>\n",
       "      <th>6</th>\n",
       "      <td>6924412</td>\n",
       "      <td>25304</td>\n",
       "      <td>1</td>\n",
       "      <td>MANHATTAN</td>\n",
       "      <td>498</td>\n",
       "      <td>MANHATTAN AVENUE</td>\n",
       "      <td>10027.0</td>\n",
       "      <td>1947</td>\n",
       "      <td>47</td>\n",
       "      <td>4</td>\n",
       "      <td>10</td>\n",
       "      <td>05/21/2014</td>\n",
       "      <td>2</td>\n",
       "      <td>CLOSE</td>\n",
       "      <td>07/04/2014</td>\n",
       "    </tr>\n",
       "    <tr>\n",
       "      <th>7</th>\n",
       "      <td>6944891</td>\n",
       "      <td>32017</td>\n",
       "      <td>1</td>\n",
       "      <td>MANHATTAN</td>\n",
       "      <td>351</td>\n",
       "      <td>WEST 29 STREET</td>\n",
       "      <td>10001.0</td>\n",
       "      <td>753</td>\n",
       "      <td>10</td>\n",
       "      <td>25</td>\n",
       "      <td>4</td>\n",
       "      <td>06/17/2014</td>\n",
       "      <td>2</td>\n",
       "      <td>CLOSE</td>\n",
       "      <td>07/22/2014</td>\n",
       "    </tr>\n",
       "    <tr>\n",
       "      <th>8</th>\n",
       "      <td>6961276</td>\n",
       "      <td>37344</td>\n",
       "      <td>1</td>\n",
       "      <td>MANHATTAN</td>\n",
       "      <td>209</td>\n",
       "      <td>WEST 101 STREET</td>\n",
       "      <td>10025.0</td>\n",
       "      <td>1873</td>\n",
       "      <td>24</td>\n",
       "      <td>PH</td>\n",
       "      <td>7</td>\n",
       "      <td>07/08/2014</td>\n",
       "      <td>2</td>\n",
       "      <td>CLOSE</td>\n",
       "      <td>07/11/2014</td>\n",
       "    </tr>\n",
       "    <tr>\n",
       "      <th>9</th>\n",
       "      <td>6959795</td>\n",
       "      <td>41208</td>\n",
       "      <td>1</td>\n",
       "      <td>MANHATTAN</td>\n",
       "      <td>315</td>\n",
       "      <td>WEST 138 STREET</td>\n",
       "      <td>10030.0</td>\n",
       "      <td>2041</td>\n",
       "      <td>40</td>\n",
       "      <td>6</td>\n",
       "      <td>10</td>\n",
       "      <td>07/07/2014</td>\n",
       "      <td>2</td>\n",
       "      <td>CLOSE</td>\n",
       "      <td>07/16/2014</td>\n",
       "    </tr>\n",
       "  </tbody>\n",
       "</table>\n",
       "</div>"
      ],
      "text/plain": [
       "   ComplaintID  BuildingID  BoroughID    Borough HouseNumber  \\\n",
       "0      6960137        3418          1  MANHATTAN        1989   \n",
       "1      6960832        3512          1  MANHATTAN        2267   \n",
       "2      6946867        5318          1  MANHATTAN         778   \n",
       "3      6966946        5608          1  MANHATTAN        1640   \n",
       "4      6956574       17896          1  MANHATTAN         230   \n",
       "5      6959035       19899          1  MANHATTAN         428   \n",
       "6      6924412       25304          1  MANHATTAN         498   \n",
       "7      6944891       32017          1  MANHATTAN         351   \n",
       "8      6961276       37344          1  MANHATTAN         209   \n",
       "9      6959795       41208          1  MANHATTAN         315   \n",
       "\n",
       "                StreetName      Zip  Block  Lot Apartment  CommunityBoard  \\\n",
       "0  ADAM C POWELL BOULEVARD  10026.0   1904    4       12D              10   \n",
       "1  ADAM C POWELL BOULEVARD  10030.0   1918    4        3B              10   \n",
       "2                11 AVENUE  10019.0   1083    1        4P               4   \n",
       "3         AMSTERDAM AVENUE  10031.0   2073   29        5A               9   \n",
       "4           EAST 88 STREET  10128.0   1533   32        1E               8   \n",
       "5          EAST 117 STREET  10035.0   1710   36        3D              11   \n",
       "6         MANHATTAN AVENUE  10027.0   1947   47         4              10   \n",
       "7           WEST 29 STREET  10001.0    753   10        25               4   \n",
       "8          WEST 101 STREET  10025.0   1873   24        PH               7   \n",
       "9          WEST 138 STREET  10030.0   2041   40         6              10   \n",
       "\n",
       "  ReceivedDate  StatusID Status  StatusDate  \n",
       "0   07/07/2014         2  CLOSE  07/29/2014  \n",
       "1   07/08/2014         2  CLOSE  07/12/2014  \n",
       "2   06/19/2014         2  CLOSE  07/13/2014  \n",
       "3   07/16/2014         2  CLOSE  07/21/2014  \n",
       "4   07/01/2014         2  CLOSE  07/09/2014  \n",
       "5   07/04/2014         2  CLOSE  07/10/2014  \n",
       "6   05/21/2014         2  CLOSE  07/04/2014  \n",
       "7   06/17/2014         2  CLOSE  07/22/2014  \n",
       "8   07/08/2014         2  CLOSE  07/11/2014  \n",
       "9   07/07/2014         2  CLOSE  07/16/2014  "
      ]
     },
     "execution_count": 77,
     "metadata": {},
     "output_type": "execute_result"
    }
   ],
   "source": [
    "comp.head(10)"
   ]
  },
  {
   "cell_type": "markdown",
   "metadata": {},
   "source": [
    "#ReceivedDate: from: 1/1/2015  to 12/31/2016 (there are 4 earlier complaints: 1 from 2009 and 3 from 2014)\n",
    "\n",
    "\n"
   ]
  },
  {
   "cell_type": "code",
   "execution_count": 83,
   "metadata": {},
   "outputs": [],
   "source": [
    "# in order to validate my method of getting BBL's I manually looked up a few of the addresses\n",
    "#here http://nycprop.nyc.gov/nycproperty/nynav/jsp/stmtassesslst.jsp \n",
    "#conclusion: BoroughID/ Block/ Lot"
   ]
  },
  {
   "cell_type": "code",
   "execution_count": 137,
   "metadata": {},
   "outputs": [
    {
     "data": {
      "text/html": [
       "<div>\n",
       "<style>\n",
       "    .dataframe thead tr:only-child th {\n",
       "        text-align: right;\n",
       "    }\n",
       "\n",
       "    .dataframe thead th {\n",
       "        text-align: left;\n",
       "    }\n",
       "\n",
       "    .dataframe tbody tr th {\n",
       "        vertical-align: top;\n",
       "    }\n",
       "</style>\n",
       "<table border=\"1\" class=\"dataframe\">\n",
       "  <thead>\n",
       "    <tr style=\"text-align: right;\">\n",
       "      <th></th>\n",
       "      <th>the_geom</th>\n",
       "      <th>bbl</th>\n",
       "    </tr>\n",
       "  </thead>\n",
       "  <tbody>\n",
       "    <tr>\n",
       "      <th>0</th>\n",
       "      <td>0106000020E61000000100000001030000000100000004...</td>\n",
       "      <td>3015870001</td>\n",
       "    </tr>\n",
       "    <tr>\n",
       "      <th>1</th>\n",
       "      <td>0106000020E61000000100000001030000000100000005...</td>\n",
       "      <td>1000190008</td>\n",
       "    </tr>\n",
       "    <tr>\n",
       "      <th>2</th>\n",
       "      <td>0106000020E61000000100000001030000000100000005...</td>\n",
       "      <td>1001527501</td>\n",
       "    </tr>\n",
       "    <tr>\n",
       "      <th>3</th>\n",
       "      <td>0106000020E61000000100000001030000000100000005...</td>\n",
       "      <td>3009200052</td>\n",
       "    </tr>\n",
       "    <tr>\n",
       "      <th>4</th>\n",
       "      <td>0106000020E61000000100000001030000000100000004...</td>\n",
       "      <td>3003820016</td>\n",
       "    </tr>\n",
       "  </tbody>\n",
       "</table>\n",
       "</div>"
      ],
      "text/plain": [
       "                                            the_geom         bbl\n",
       "0  0106000020E61000000100000001030000000100000004...  3015870001\n",
       "1  0106000020E61000000100000001030000000100000005...  1000190008\n",
       "2  0106000020E61000000100000001030000000100000005...  1001527501\n",
       "3  0106000020E61000000100000001030000000100000005...  3009200052\n",
       "4  0106000020E61000000100000001030000000100000004...  3003820016"
      ]
     },
     "execution_count": 137,
     "metadata": {},
     "output_type": "execute_result"
    }
   ],
   "source": [
    "bbl.head()"
   ]
  },
  {
   "cell_type": "code",
   "execution_count": 132,
   "metadata": {},
   "outputs": [
    {
     "data": {
      "text/plain": [
       "733431"
      ]
     },
     "execution_count": 132,
     "metadata": {},
     "output_type": "execute_result"
    }
   ],
   "source": [
    "len(prob[prob['Type']== 'EMERGENCY'])\n",
    "len(prob[prob['Type']== 'NON EMERGENCY'])"
   ]
  },
  {
   "cell_type": "markdown",
   "metadata": {},
   "source": [
    "range of dates for the data: "
   ]
  },
  {
   "cell_type": "code",
   "execution_count": 231,
   "metadata": {},
   "outputs": [
    {
     "data": {
      "text/html": [
       "<div>\n",
       "<style>\n",
       "    .dataframe thead tr:only-child th {\n",
       "        text-align: right;\n",
       "    }\n",
       "\n",
       "    .dataframe thead th {\n",
       "        text-align: left;\n",
       "    }\n",
       "\n",
       "    .dataframe tbody tr th {\n",
       "        vertical-align: top;\n",
       "    }\n",
       "</style>\n",
       "<table border=\"1\" class=\"dataframe\">\n",
       "  <thead>\n",
       "    <tr style=\"text-align: right;\">\n",
       "      <th></th>\n",
       "      <th>ProblemID</th>\n",
       "      <th>ComplaintID</th>\n",
       "      <th>UnitTypeID</th>\n",
       "      <th>UnitType</th>\n",
       "      <th>SpaceTypeID</th>\n",
       "      <th>SpaceType</th>\n",
       "      <th>TypeID</th>\n",
       "      <th>Type</th>\n",
       "      <th>MajorCategoryID</th>\n",
       "      <th>MajorCategory</th>\n",
       "      <th>MinorCategoryID</th>\n",
       "      <th>MinorCategory</th>\n",
       "      <th>CodeID</th>\n",
       "      <th>Code</th>\n",
       "      <th>StatusID</th>\n",
       "      <th>Status</th>\n",
       "      <th>StatusDate</th>\n",
       "      <th>StatusDescription</th>\n",
       "    </tr>\n",
       "  </thead>\n",
       "  <tbody>\n",
       "    <tr>\n",
       "      <th>0</th>\n",
       "      <td>17307278</td>\n",
       "      <td>8412850</td>\n",
       "      <td>91</td>\n",
       "      <td>APARTMENT</td>\n",
       "      <td>543</td>\n",
       "      <td>ENTIRE APARTMENT</td>\n",
       "      <td>1</td>\n",
       "      <td>EMERGENCY</td>\n",
       "      <td>56</td>\n",
       "      <td>DOOR/WINDOW</td>\n",
       "      <td>337</td>\n",
       "      <td>WINDOW FRAME</td>\n",
       "      <td>2836</td>\n",
       "      <td>LOOSE OR DEFECTIVE</td>\n",
       "      <td>2</td>\n",
       "      <td>CLOSE</td>\n",
       "      <td>03/31/2017</td>\n",
       "      <td>The Department of Housing Preservation and Dev...</td>\n",
       "    </tr>\n",
       "    <tr>\n",
       "      <th>1</th>\n",
       "      <td>17317058</td>\n",
       "      <td>8417365</td>\n",
       "      <td>91</td>\n",
       "      <td>APARTMENT</td>\n",
       "      <td>543</td>\n",
       "      <td>ENTIRE APARTMENT</td>\n",
       "      <td>3</td>\n",
       "      <td>NON EMERGENCY</td>\n",
       "      <td>63</td>\n",
       "      <td>UNSANITARY CONDITION</td>\n",
       "      <td>376</td>\n",
       "      <td>PESTS</td>\n",
       "      <td>2821</td>\n",
       "      <td>MICE</td>\n",
       "      <td>2</td>\n",
       "      <td>CLOSE</td>\n",
       "      <td>03/16/2017</td>\n",
       "      <td>The Department of Housing Preservation and Dev...</td>\n",
       "    </tr>\n",
       "    <tr>\n",
       "      <th>2</th>\n",
       "      <td>17016467</td>\n",
       "      <td>8249017</td>\n",
       "      <td>91</td>\n",
       "      <td>APARTMENT</td>\n",
       "      <td>545</td>\n",
       "      <td>ENTRANCE/FOYER</td>\n",
       "      <td>1</td>\n",
       "      <td>EMERGENCY</td>\n",
       "      <td>56</td>\n",
       "      <td>DOOR/WINDOW</td>\n",
       "      <td>333</td>\n",
       "      <td>DOOR</td>\n",
       "      <td>2665</td>\n",
       "      <td>LOCK BROKEN OR MISSING</td>\n",
       "      <td>2</td>\n",
       "      <td>CLOSE</td>\n",
       "      <td>03/03/2017</td>\n",
       "      <td>The Department of Housing Preservation and Dev...</td>\n",
       "    </tr>\n",
       "    <tr>\n",
       "      <th>3</th>\n",
       "      <td>14548958</td>\n",
       "      <td>6967900</td>\n",
       "      <td>91</td>\n",
       "      <td>APARTMENT</td>\n",
       "      <td>541</td>\n",
       "      <td>BATHROOM</td>\n",
       "      <td>1</td>\n",
       "      <td>EMERGENCY</td>\n",
       "      <td>9</td>\n",
       "      <td>PLUMBING</td>\n",
       "      <td>63</td>\n",
       "      <td>BATHTUB/SHOWER</td>\n",
       "      <td>2538</td>\n",
       "      <td>BROKEN OR MISSING</td>\n",
       "      <td>2</td>\n",
       "      <td>CLOSE</td>\n",
       "      <td>07/29/2014</td>\n",
       "      <td>The Department of Housing Preservation and De...</td>\n",
       "    </tr>\n",
       "    <tr>\n",
       "      <th>4</th>\n",
       "      <td>14548959</td>\n",
       "      <td>6967900</td>\n",
       "      <td>91</td>\n",
       "      <td>APARTMENT</td>\n",
       "      <td>541</td>\n",
       "      <td>BATHROOM</td>\n",
       "      <td>3</td>\n",
       "      <td>NON EMERGENCY</td>\n",
       "      <td>9</td>\n",
       "      <td>PLUMBING</td>\n",
       "      <td>63</td>\n",
       "      <td>BATHTUB/SHOWER</td>\n",
       "      <td>2540</td>\n",
       "      <td>FAUCET BROKEN/MISSING/LEAKING</td>\n",
       "      <td>2</td>\n",
       "      <td>CLOSE</td>\n",
       "      <td>08/04/2014</td>\n",
       "      <td>The Department of Housing Preservation and De...</td>\n",
       "    </tr>\n",
       "    <tr>\n",
       "      <th>5</th>\n",
       "      <td>14548960</td>\n",
       "      <td>6967900</td>\n",
       "      <td>91</td>\n",
       "      <td>APARTMENT</td>\n",
       "      <td>543</td>\n",
       "      <td>ENTIRE APARTMENT</td>\n",
       "      <td>3</td>\n",
       "      <td>NON EMERGENCY</td>\n",
       "      <td>58</td>\n",
       "      <td>FLOORING/STAIRS</td>\n",
       "      <td>343</td>\n",
       "      <td>FLOOR</td>\n",
       "      <td>2691</td>\n",
       "      <td>TILE BROKEN OR MISSING</td>\n",
       "      <td>2</td>\n",
       "      <td>CLOSE</td>\n",
       "      <td>08/04/2014</td>\n",
       "      <td>The Department of Housing Preservation and De...</td>\n",
       "    </tr>\n",
       "    <tr>\n",
       "      <th>6</th>\n",
       "      <td>14548961</td>\n",
       "      <td>6967900</td>\n",
       "      <td>91</td>\n",
       "      <td>APARTMENT</td>\n",
       "      <td>541</td>\n",
       "      <td>BATHROOM</td>\n",
       "      <td>3</td>\n",
       "      <td>NON EMERGENCY</td>\n",
       "      <td>9</td>\n",
       "      <td>PLUMBING</td>\n",
       "      <td>63</td>\n",
       "      <td>BATHTUB/SHOWER</td>\n",
       "      <td>2541</td>\n",
       "      <td>CHIPPED OR RUSTED</td>\n",
       "      <td>2</td>\n",
       "      <td>CLOSE</td>\n",
       "      <td>08/04/2014</td>\n",
       "      <td>The Department of Housing Preservation and De...</td>\n",
       "    </tr>\n",
       "    <tr>\n",
       "      <th>7</th>\n",
       "      <td>14615271</td>\n",
       "      <td>6994958</td>\n",
       "      <td>20</td>\n",
       "      <td>APARTMENT</td>\n",
       "      <td>68</td>\n",
       "      <td>ENTIRE APARTMENT</td>\n",
       "      <td>1</td>\n",
       "      <td>EMERGENCY</td>\n",
       "      <td>59</td>\n",
       "      <td>HEAT/HOT WATER</td>\n",
       "      <td>349</td>\n",
       "      <td>ENTIRE BUILDING</td>\n",
       "      <td>2717</td>\n",
       "      <td>NO HOT WATER</td>\n",
       "      <td>2</td>\n",
       "      <td>CLOSE</td>\n",
       "      <td>08/22/2014</td>\n",
       "      <td>The Department of Housing Preservation and De...</td>\n",
       "    </tr>\n",
       "    <tr>\n",
       "      <th>8</th>\n",
       "      <td>14568548</td>\n",
       "      <td>6977138</td>\n",
       "      <td>91</td>\n",
       "      <td>APARTMENT</td>\n",
       "      <td>542</td>\n",
       "      <td>BEDROOM</td>\n",
       "      <td>4</td>\n",
       "      <td>IMMEDIATE EMERGENCY</td>\n",
       "      <td>28</td>\n",
       "      <td>PAINT/PLASTER</td>\n",
       "      <td>197</td>\n",
       "      <td>CEILING</td>\n",
       "      <td>2520</td>\n",
       "      <td>COLLAPSING OR FALLING</td>\n",
       "      <td>2</td>\n",
       "      <td>CLOSE</td>\n",
       "      <td>07/29/2014</td>\n",
       "      <td>The Department of Housing Preservation and De...</td>\n",
       "    </tr>\n",
       "    <tr>\n",
       "      <th>9</th>\n",
       "      <td>14568549</td>\n",
       "      <td>6977138</td>\n",
       "      <td>91</td>\n",
       "      <td>APARTMENT</td>\n",
       "      <td>542</td>\n",
       "      <td>BEDROOM</td>\n",
       "      <td>3</td>\n",
       "      <td>NON EMERGENCY</td>\n",
       "      <td>28</td>\n",
       "      <td>PAINT/PLASTER</td>\n",
       "      <td>198</td>\n",
       "      <td>WALL</td>\n",
       "      <td>1364</td>\n",
       "      <td>BULGING/HOLE/CRACKED</td>\n",
       "      <td>2</td>\n",
       "      <td>CLOSE</td>\n",
       "      <td>07/29/2014</td>\n",
       "      <td>The Department of Housing Preservation and De...</td>\n",
       "    </tr>\n",
       "  </tbody>\n",
       "</table>\n",
       "</div>"
      ],
      "text/plain": [
       "   ProblemID  ComplaintID  UnitTypeID   UnitType  SpaceTypeID   \\\n",
       "0   17307278      8412850          91  APARTMENT           543   \n",
       "1   17317058      8417365          91  APARTMENT           543   \n",
       "2   17016467      8249017          91  APARTMENT           545   \n",
       "3   14548958      6967900          91  APARTMENT           541   \n",
       "4   14548959      6967900          91  APARTMENT           541   \n",
       "5   14548960      6967900          91  APARTMENT           543   \n",
       "6   14548961      6967900          91  APARTMENT           541   \n",
       "7   14615271      6994958          20  APARTMENT            68   \n",
       "8   14568548      6977138          91  APARTMENT           542   \n",
       "9   14568549      6977138          91  APARTMENT           542   \n",
       "\n",
       "          SpaceType  TypeID                 Type  MajorCategoryID  \\\n",
       "0  ENTIRE APARTMENT       1            EMERGENCY               56   \n",
       "1  ENTIRE APARTMENT       3        NON EMERGENCY               63   \n",
       "2    ENTRANCE/FOYER       1            EMERGENCY               56   \n",
       "3          BATHROOM       1            EMERGENCY                9   \n",
       "4          BATHROOM       3        NON EMERGENCY                9   \n",
       "5  ENTIRE APARTMENT       3        NON EMERGENCY               58   \n",
       "6          BATHROOM       3        NON EMERGENCY                9   \n",
       "7  ENTIRE APARTMENT       1            EMERGENCY               59   \n",
       "8           BEDROOM       4  IMMEDIATE EMERGENCY               28   \n",
       "9           BEDROOM       3        NON EMERGENCY               28   \n",
       "\n",
       "          MajorCategory  MinorCategoryID    MinorCategory  CodeID  \\\n",
       "0           DOOR/WINDOW              337     WINDOW FRAME    2836   \n",
       "1  UNSANITARY CONDITION              376            PESTS    2821   \n",
       "2           DOOR/WINDOW              333             DOOR    2665   \n",
       "3              PLUMBING               63   BATHTUB/SHOWER    2538   \n",
       "4              PLUMBING               63   BATHTUB/SHOWER    2540   \n",
       "5       FLOORING/STAIRS              343            FLOOR    2691   \n",
       "6              PLUMBING               63   BATHTUB/SHOWER    2541   \n",
       "7        HEAT/HOT WATER              349  ENTIRE BUILDING    2717   \n",
       "8         PAINT/PLASTER              197          CEILING    2520   \n",
       "9         PAINT/PLASTER              198             WALL    1364   \n",
       "\n",
       "                            Code  StatusID Status  StatusDate  \\\n",
       "0             LOOSE OR DEFECTIVE         2  CLOSE  03/31/2017   \n",
       "1                           MICE         2  CLOSE  03/16/2017   \n",
       "2         LOCK BROKEN OR MISSING         2  CLOSE  03/03/2017   \n",
       "3              BROKEN OR MISSING         2  CLOSE  07/29/2014   \n",
       "4  FAUCET BROKEN/MISSING/LEAKING         2  CLOSE  08/04/2014   \n",
       "5         TILE BROKEN OR MISSING         2  CLOSE  08/04/2014   \n",
       "6              CHIPPED OR RUSTED         2  CLOSE  08/04/2014   \n",
       "7                   NO HOT WATER         2  CLOSE  08/22/2014   \n",
       "8          COLLAPSING OR FALLING         2  CLOSE  07/29/2014   \n",
       "9           BULGING/HOLE/CRACKED         2  CLOSE  07/29/2014   \n",
       "\n",
       "                                   StatusDescription  \n",
       "0  The Department of Housing Preservation and Dev...  \n",
       "1  The Department of Housing Preservation and Dev...  \n",
       "2  The Department of Housing Preservation and Dev...  \n",
       "3   The Department of Housing Preservation and De...  \n",
       "4   The Department of Housing Preservation and De...  \n",
       "5   The Department of Housing Preservation and De...  \n",
       "6   The Department of Housing Preservation and De...  \n",
       "7   The Department of Housing Preservation and De...  \n",
       "8   The Department of Housing Preservation and De...  \n",
       "9   The Department of Housing Preservation and De...  "
      ]
     },
     "execution_count": 231,
     "metadata": {},
     "output_type": "execute_result"
    }
   ],
   "source": [
    "prob.head(10)"
   ]
  },
  {
   "cell_type": "code",
   "execution_count": 146,
   "metadata": {},
   "outputs": [
    {
     "data": {
      "text/plain": [
       "ProblemID                0\n",
       "ComplaintID              0\n",
       "UnitTypeID               0\n",
       "UnitType                 0\n",
       "SpaceTypeID              0\n",
       "SpaceType                0\n",
       "TypeID                   0\n",
       "Type                     0\n",
       "MajorCategoryID          0\n",
       "MajorCategory            0\n",
       "MinorCategoryID          0\n",
       "MinorCategory            0\n",
       "CodeID                   0\n",
       "Code                 91855\n",
       "StatusID                 0\n",
       "Status                   0\n",
       "StatusDate             136\n",
       "StatusDescription     6417\n",
       "dtype: int64"
      ]
     },
     "execution_count": 146,
     "metadata": {},
     "output_type": "execute_result"
    }
   ],
   "source": [
    "prob.isnull().sum()"
   ]
  },
  {
   "cell_type": "code",
   "execution_count": 138,
   "metadata": {},
   "outputs": [
    {
     "data": {
      "text/plain": [
       "array(['APARTMENT', 'BUILDING-W', 'PUBLIC PAR', 'PUBLIC ARE', 'BUILDING'], dtype=object)"
      ]
     },
     "execution_count": 138,
     "metadata": {},
     "output_type": "execute_result"
    }
   ],
   "source": [
    "prob.UnitType.unique()"
   ]
  },
  {
   "cell_type": "code",
   "execution_count": 267,
   "metadata": {},
   "outputs": [
    {
     "name": "stdout",
     "output_type": "stream",
     "text": [
      " number of major problem catogories: 16\n",
      "door/ window 146129\n",
      "UNSANITARY CONDITION 297575\n",
      "PLUMBING 199167\n",
      "FLOORING/STAIRS 102182\n",
      "HEAT/HOT WATER 635063\n",
      "PAINT/PLASTER 243653\n",
      "ELECTRIC 104648\n",
      "GENERAL 95351\n",
      "WATER LEAK 122624\n",
      "APPLIANCE 48302\n",
      "NONCONST 337\n",
      "OUTSIDE BUILDING 6820\n",
      "SAFETY 51705\n",
      "HEATING 360\n",
      "ELEVATOR 3841\n",
      "CONSTRUCTION 7\n"
     ]
    }
   ],
   "source": [
    "# problems major category and the # of each \n",
    "print' number of major problem catogories:' ,len(prob.MajorCategory.unique())\n",
    "print 'door/ window', len(prob[prob['MajorCategory']== 'DOOR/WINDOW'])\n",
    "print 'UNSANITARY CONDITION', len(prob[prob['MajorCategory']== 'UNSANITARY CONDITION'])\n",
    "print 'PLUMBING', len(prob[prob['MajorCategory']== 'PLUMBING'])\n",
    "print 'FLOORING/STAIRS', len(prob[prob['MajorCategory']== 'FLOORING/STAIRS'])\n",
    "print 'HEAT/HOT WATER', len(prob[prob['MajorCategory']== 'HEAT/HOT WATER'])\n",
    "print 'PAINT/PLASTER', len(prob[prob['MajorCategory']== 'PAINT/PLASTER'])\n",
    "print 'ELECTRIC', len(prob[prob['MajorCategory']== 'ELECTRIC'])\n",
    "print 'GENERAL', len(prob[prob['MajorCategory']== 'GENERAL'])\n",
    "print 'WATER LEAK', len(prob[prob['MajorCategory']== 'WATER LEAK'])\n",
    "print 'APPLIANCE', len(prob[prob['MajorCategory']== 'APPLIANCE'])\n",
    "print 'NONCONST', len(prob[prob['MajorCategory']== 'NONCONST'])\n",
    "print 'OUTSIDE BUILDING', len(prob[prob['MajorCategory']== 'OUTSIDE BUILDING'])\n",
    "print 'SAFETY', len(prob[prob['MajorCategory']== 'SAFETY'])\n",
    "print 'HEATING', len(prob[prob['MajorCategory']== 'HEATING'])\n",
    "print 'ELEVATOR', len(prob[prob['MajorCategory']== 'ELEVATOR'])\n",
    "print 'CONSTRUCTION', len(prob[prob['MajorCategory']== 'CONSTRUCTION'])\n"
   ]
  },
  {
   "cell_type": "code",
   "execution_count": 272,
   "metadata": {},
   "outputs": [
    {
     "data": {
      "text/plain": [
       "2057764"
      ]
     },
     "execution_count": 272,
     "metadata": {},
     "output_type": "execute_result"
    },
    {
     "name": "stdout",
     "output_type": "stream",
     "text": [
      "\n"
     ]
    }
   ],
   "source": [
    "len(prob)"
   ]
  },
  {
   "cell_type": "code",
   "execution_count": 274,
   "metadata": {},
   "outputs": [
    {
     "name": "stdout",
     "output_type": "stream",
     "text": [
      "door/ window 0.0710134884272\n",
      "UNSANITARY CONDITION 0.144610849446\n",
      "PLUMBING 0.0967880670475\n",
      "FLOORING/STAIRS 0.0496568119571\n",
      "HEAT/HOT WATER 0.308617995066\n",
      "PAINT/PLASTER 0.118406678317\n",
      "ELECTRIC 0.0508552001104\n",
      "GENERAL 0.0463371892987\n",
      "WATER LEAK 0.059590895749\n",
      "APPLIANCE 0.0234730513314\n",
      "NONCONST 0.000163769995004\n",
      "OUTSIDE BUILDING 0.00331427705024\n",
      "SAFETY 0.0251267881059\n",
      "HEATING 0.000174947175672\n",
      "ELEVATOR 0.00186658917155\n",
      "CONSTRUCTION 3.40175063807e-06\n"
     ]
    }
   ],
   "source": [
    "# share of each problem category \n",
    "\n",
    "#print' number of major problem catogories:' ,len(prob.MajorCategory.unique()) / \n",
    "print 'door/ window', len(prob[prob['MajorCategory']== 'DOOR/WINDOW']) / float(2057764)\n",
    "print 'UNSANITARY CONDITION', len(prob[prob['MajorCategory']== 'UNSANITARY CONDITION'])/ float(2057764)\n",
    "print 'PLUMBING', len(prob[prob['MajorCategory']== 'PLUMBING'])/ float(2057764)\n",
    "print 'FLOORING/STAIRS', len(prob[prob['MajorCategory']== 'FLOORING/STAIRS']) / float(2057764)\n",
    "print 'HEAT/HOT WATER', len(prob[prob['MajorCategory']== 'HEAT/HOT WATER'])/ float(2057764)\n",
    "print 'PAINT/PLASTER', len(prob[prob['MajorCategory']== 'PAINT/PLASTER'])/ float(2057764)\n",
    "print 'ELECTRIC', len(prob[prob['MajorCategory']== 'ELECTRIC'])/ float(2057764)\n",
    "print 'GENERAL', len(prob[prob['MajorCategory']== 'GENERAL'])/ float(2057764)\n",
    "print 'WATER LEAK', len(prob[prob['MajorCategory']== 'WATER LEAK'])/ float(2057764)\n",
    "print 'APPLIANCE', len(prob[prob['MajorCategory']== 'APPLIANCE'])/ float(2057764)\n",
    "print 'NONCONST', len(prob[prob['MajorCategory']== 'NONCONST'])/ float(2057764)\n",
    "print 'OUTSIDE BUILDING', len(prob[prob['MajorCategory']== 'OUTSIDE BUILDING'])/ float(2057764)\n",
    "print 'SAFETY', len(prob[prob['MajorCategory']== 'SAFETY'])/ float(2057764)\n",
    "print 'HEATING', len(prob[prob['MajorCategory']== 'HEATING'])/ float(2057764)\n",
    "print 'ELEVATOR', len(prob[prob['MajorCategory']== 'ELEVATOR'])/ float(2057764)\n",
    "print 'CONSTRUCTION', len(prob[prob['MajorCategory']== 'CONSTRUCTION'])/ float(2057764)\n"
   ]
  },
  {
   "cell_type": "code",
   "execution_count": 140,
   "metadata": {},
   "outputs": [
    {
     "data": {
      "text/plain": [
       "array(['DOOR/WINDOW', 'UNSANITARY CONDITION', 'PLUMBING',\n",
       "       'FLOORING/STAIRS', 'HEAT/HOT WATER', 'PAINT/PLASTER', 'ELECTRIC',\n",
       "       'GENERAL', 'WATER LEAK', 'APPLIANCE', 'NONCONST',\n",
       "       'OUTSIDE BUILDING', 'SAFETY', 'HEATING', 'ELEVATOR', 'CONSTRUCTION'], dtype=object)"
      ]
     },
     "execution_count": 140,
     "metadata": {},
     "output_type": "execute_result"
    }
   ],
   "source": [
    "prob.MajorCategory.unique()"
   ]
  },
  {
   "cell_type": "code",
   "execution_count": 153,
   "metadata": {},
   "outputs": [
    {
     "data": {
      "image/png": "[encoded data removed]",
      "text/plain": [
       "<matplotlib.figure.Figure at 0x11b04da50>"
      ]
     },
     "metadata": {},
     "output_type": "display_data"
    }
   ],
   "source": [
    "#visualizing probplems by catagory \n",
    "import seaborn as sns\n",
    "sns.set(style=\"white\")\n",
    "sns.set(style=\"whitegrid\", color_codes=True)\n",
    "\n",
    "sns.countplot(y=\"MajorCategory\", data=prob)\n",
    "plt.show()"
   ]
  },
  {
   "cell_type": "code",
   "execution_count": 154,
   "metadata": {},
   "outputs": [
    {
     "data": {
      "image/png": "[encoded data removed]",
      "text/plain": [
       "<matplotlib.figure.Figure at 0x11b04d950>"
      ]
     },
     "metadata": {},
     "output_type": "display_data"
    }
   ],
   "source": [
    "sns.countplot(y=\"SpaceType\", data=prob)\n",
    "plt.show()"
   ]
  },
  {
   "cell_type": "code",
   "execution_count": 155,
   "metadata": {},
   "outputs": [
    {
     "data": {
      "image/png": "[encoded data removed]",
      "text/plain": [
       "<matplotlib.figure.Figure at 0x11b04d6d0>"
      ]
     },
     "metadata": {},
     "output_type": "display_data"
    }
   ],
   "source": [
    "sns.countplot(y=\"UnitType\", data=prob)\n",
    "get plt.show()"
   ]
  },
  {
   "cell_type": "code",
   "execution_count": 171,
   "metadata": {},
   "outputs": [],
   "source": [
    "#get dummies for the problem category and boruugh for the logit model\n",
    "\n",
    "comp2 = pd.get_dummies(comp, columns=['Borough'])\n",
    "prob2 = pd.get_dummies(prob,columns=['MajorCategory'])"
   ]
  },
  {
   "cell_type": "code",
   "execution_count": 173,
   "metadata": {},
   "outputs": [
    {
     "data": {
      "text/html": [
       "<div>\n",
       "<style>\n",
       "    .dataframe thead tr:only-child th {\n",
       "        text-align: right;\n",
       "    }\n",
       "\n",
       "    .dataframe thead th {\n",
       "        text-align: left;\n",
       "    }\n",
       "\n",
       "    .dataframe tbody tr th {\n",
       "        vertical-align: top;\n",
       "    }\n",
       "</style>\n",
       "<table border=\"1\" class=\"dataframe\">\n",
       "  <thead>\n",
       "    <tr style=\"text-align: right;\">\n",
       "      <th></th>\n",
       "      <th>ComplaintID</th>\n",
       "      <th>BuildingID</th>\n",
       "      <th>BoroughID</th>\n",
       "      <th>HouseNumber</th>\n",
       "      <th>StreetName</th>\n",
       "      <th>Zip</th>\n",
       "      <th>Block</th>\n",
       "      <th>Lot</th>\n",
       "      <th>Apartment</th>\n",
       "      <th>CommunityBoard</th>\n",
       "      <th>ReceivedDate</th>\n",
       "      <th>StatusID</th>\n",
       "      <th>Status</th>\n",
       "      <th>StatusDate</th>\n",
       "      <th>Borough_BRONX</th>\n",
       "      <th>Borough_BROOKLYN</th>\n",
       "      <th>Borough_MANHATTAN</th>\n",
       "      <th>Borough_QUEENS</th>\n",
       "      <th>Borough_STATEN ISLAND</th>\n",
       "    </tr>\n",
       "  </thead>\n",
       "  <tbody>\n",
       "    <tr>\n",
       "      <th>0</th>\n",
       "      <td>6960137</td>\n",
       "      <td>3418</td>\n",
       "      <td>1</td>\n",
       "      <td>1989</td>\n",
       "      <td>ADAM C POWELL BOULEVARD</td>\n",
       "      <td>10026.0</td>\n",
       "      <td>1904</td>\n",
       "      <td>4</td>\n",
       "      <td>12D</td>\n",
       "      <td>10</td>\n",
       "      <td>07/07/2014</td>\n",
       "      <td>2</td>\n",
       "      <td>CLOSE</td>\n",
       "      <td>07/29/2014</td>\n",
       "      <td>0</td>\n",
       "      <td>0</td>\n",
       "      <td>1</td>\n",
       "      <td>0</td>\n",
       "      <td>0</td>\n",
       "    </tr>\n",
       "    <tr>\n",
       "      <th>1</th>\n",
       "      <td>6960832</td>\n",
       "      <td>3512</td>\n",
       "      <td>1</td>\n",
       "      <td>2267</td>\n",
       "      <td>ADAM C POWELL BOULEVARD</td>\n",
       "      <td>10030.0</td>\n",
       "      <td>1918</td>\n",
       "      <td>4</td>\n",
       "      <td>3B</td>\n",
       "      <td>10</td>\n",
       "      <td>07/08/2014</td>\n",
       "      <td>2</td>\n",
       "      <td>CLOSE</td>\n",
       "      <td>07/12/2014</td>\n",
       "      <td>0</td>\n",
       "      <td>0</td>\n",
       "      <td>1</td>\n",
       "      <td>0</td>\n",
       "      <td>0</td>\n",
       "    </tr>\n",
       "    <tr>\n",
       "      <th>2</th>\n",
       "      <td>6946867</td>\n",
       "      <td>5318</td>\n",
       "      <td>1</td>\n",
       "      <td>778</td>\n",
       "      <td>11 AVENUE</td>\n",
       "      <td>10019.0</td>\n",
       "      <td>1083</td>\n",
       "      <td>1</td>\n",
       "      <td>4P</td>\n",
       "      <td>4</td>\n",
       "      <td>06/19/2014</td>\n",
       "      <td>2</td>\n",
       "      <td>CLOSE</td>\n",
       "      <td>07/13/2014</td>\n",
       "      <td>0</td>\n",
       "      <td>0</td>\n",
       "      <td>1</td>\n",
       "      <td>0</td>\n",
       "      <td>0</td>\n",
       "    </tr>\n",
       "    <tr>\n",
       "      <th>3</th>\n",
       "      <td>6966946</td>\n",
       "      <td>5608</td>\n",
       "      <td>1</td>\n",
       "      <td>1640</td>\n",
       "      <td>AMSTERDAM AVENUE</td>\n",
       "      <td>10031.0</td>\n",
       "      <td>2073</td>\n",
       "      <td>29</td>\n",
       "      <td>5A</td>\n",
       "      <td>9</td>\n",
       "      <td>07/16/2014</td>\n",
       "      <td>2</td>\n",
       "      <td>CLOSE</td>\n",
       "      <td>07/21/2014</td>\n",
       "      <td>0</td>\n",
       "      <td>0</td>\n",
       "      <td>1</td>\n",
       "      <td>0</td>\n",
       "      <td>0</td>\n",
       "    </tr>\n",
       "    <tr>\n",
       "      <th>4</th>\n",
       "      <td>6956574</td>\n",
       "      <td>17896</td>\n",
       "      <td>1</td>\n",
       "      <td>230</td>\n",
       "      <td>EAST 88 STREET</td>\n",
       "      <td>10128.0</td>\n",
       "      <td>1533</td>\n",
       "      <td>32</td>\n",
       "      <td>1E</td>\n",
       "      <td>8</td>\n",
       "      <td>07/01/2014</td>\n",
       "      <td>2</td>\n",
       "      <td>CLOSE</td>\n",
       "      <td>07/09/2014</td>\n",
       "      <td>0</td>\n",
       "      <td>0</td>\n",
       "      <td>1</td>\n",
       "      <td>0</td>\n",
       "      <td>0</td>\n",
       "    </tr>\n",
       "  </tbody>\n",
       "</table>\n",
       "</div>"
      ],
      "text/plain": [
       "   ComplaintID  BuildingID  BoroughID HouseNumber               StreetName  \\\n",
       "0      6960137        3418          1        1989  ADAM C POWELL BOULEVARD   \n",
       "1      6960832        3512          1        2267  ADAM C POWELL BOULEVARD   \n",
       "2      6946867        5318          1         778                11 AVENUE   \n",
       "3      6966946        5608          1        1640         AMSTERDAM AVENUE   \n",
       "4      6956574       17896          1         230           EAST 88 STREET   \n",
       "\n",
       "       Zip  Block  Lot Apartment  CommunityBoard ReceivedDate  StatusID  \\\n",
       "0  10026.0   1904    4       12D              10   07/07/2014         2   \n",
       "1  10030.0   1918    4        3B              10   07/08/2014         2   \n",
       "2  10019.0   1083    1        4P               4   06/19/2014         2   \n",
       "3  10031.0   2073   29        5A               9   07/16/2014         2   \n",
       "4  10128.0   1533   32        1E               8   07/01/2014         2   \n",
       "\n",
       "  Status  StatusDate  Borough_BRONX  Borough_BROOKLYN  Borough_MANHATTAN  \\\n",
       "0  CLOSE  07/29/2014              0                 0                  1   \n",
       "1  CLOSE  07/12/2014              0                 0                  1   \n",
       "2  CLOSE  07/13/2014              0                 0                  1   \n",
       "3  CLOSE  07/21/2014              0                 0                  1   \n",
       "4  CLOSE  07/09/2014              0                 0                  1   \n",
       "\n",
       "   Borough_QUEENS  Borough_STATEN ISLAND  \n",
       "0               0                      0  \n",
       "1               0                      0  \n",
       "2               0                      0  \n",
       "3               0                      0  \n",
       "4               0                      0  "
      ]
     },
     "execution_count": 173,
     "metadata": {},
     "output_type": "execute_result"
    }
   ],
   "source": [
    "comp2.head()"
   ]
  },
  {
   "cell_type": "code",
   "execution_count": 181,
   "metadata": {
    "collapsed": true
   },
   "outputs": [],
   "source": [
    "comp2 = comp2.rename(columns={'Borough_STATEN ISLAND':'Borough_STATEN_ISLAND'})"
   ]
  },
  {
   "cell_type": "code",
   "execution_count": 189,
   "metadata": {},
   "outputs": [],
   "source": [
    "del comp2['Borough_MANHATTAN']\n",
    "del comp2['Borough_QUEENS']\n",
    "del comp2['Borough_STATEN_ISLAND']\n"
   ]
  },
  {
   "cell_type": "code",
   "execution_count": 191,
   "metadata": {},
   "outputs": [
    {
     "data": {
      "text/html": [
       "<div>\n",
       "<style>\n",
       "    .dataframe thead tr:only-child th {\n",
       "        text-align: right;\n",
       "    }\n",
       "\n",
       "    .dataframe thead th {\n",
       "        text-align: left;\n",
       "    }\n",
       "\n",
       "    .dataframe tbody tr th {\n",
       "        vertical-align: top;\n",
       "    }\n",
       "</style>\n",
       "<table border=\"1\" class=\"dataframe\">\n",
       "  <thead>\n",
       "    <tr style=\"text-align: right;\">\n",
       "      <th></th>\n",
       "      <th>Borough_BROOKLYN</th>\n",
       "    </tr>\n",
       "  </thead>\n",
       "  <tbody>\n",
       "    <tr>\n",
       "      <th>0</th>\n",
       "      <td>0</td>\n",
       "    </tr>\n",
       "    <tr>\n",
       "      <th>1</th>\n",
       "      <td>0</td>\n",
       "    </tr>\n",
       "    <tr>\n",
       "      <th>2</th>\n",
       "      <td>0</td>\n",
       "    </tr>\n",
       "    <tr>\n",
       "      <th>3</th>\n",
       "      <td>0</td>\n",
       "    </tr>\n",
       "    <tr>\n",
       "      <th>4</th>\n",
       "      <td>0</td>\n",
       "    </tr>\n",
       "    <tr>\n",
       "      <th>5</th>\n",
       "      <td>0</td>\n",
       "    </tr>\n",
       "    <tr>\n",
       "      <th>6</th>\n",
       "      <td>0</td>\n",
       "    </tr>\n",
       "    <tr>\n",
       "      <th>7</th>\n",
       "      <td>0</td>\n",
       "    </tr>\n",
       "    <tr>\n",
       "      <th>8</th>\n",
       "      <td>0</td>\n",
       "    </tr>\n",
       "    <tr>\n",
       "      <th>9</th>\n",
       "      <td>0</td>\n",
       "    </tr>\n",
       "    <tr>\n",
       "      <th>10</th>\n",
       "      <td>0</td>\n",
       "    </tr>\n",
       "    <tr>\n",
       "      <th>11</th>\n",
       "      <td>0</td>\n",
       "    </tr>\n",
       "    <tr>\n",
       "      <th>12</th>\n",
       "      <td>0</td>\n",
       "    </tr>\n",
       "    <tr>\n",
       "      <th>13</th>\n",
       "      <td>0</td>\n",
       "    </tr>\n",
       "    <tr>\n",
       "      <th>14</th>\n",
       "      <td>0</td>\n",
       "    </tr>\n",
       "    <tr>\n",
       "      <th>15</th>\n",
       "      <td>0</td>\n",
       "    </tr>\n",
       "    <tr>\n",
       "      <th>16</th>\n",
       "      <td>0</td>\n",
       "    </tr>\n",
       "    <tr>\n",
       "      <th>17</th>\n",
       "      <td>0</td>\n",
       "    </tr>\n",
       "    <tr>\n",
       "      <th>18</th>\n",
       "      <td>0</td>\n",
       "    </tr>\n",
       "    <tr>\n",
       "      <th>19</th>\n",
       "      <td>0</td>\n",
       "    </tr>\n",
       "    <tr>\n",
       "      <th>20</th>\n",
       "      <td>0</td>\n",
       "    </tr>\n",
       "    <tr>\n",
       "      <th>21</th>\n",
       "      <td>0</td>\n",
       "    </tr>\n",
       "    <tr>\n",
       "      <th>22</th>\n",
       "      <td>0</td>\n",
       "    </tr>\n",
       "    <tr>\n",
       "      <th>23</th>\n",
       "      <td>0</td>\n",
       "    </tr>\n",
       "    <tr>\n",
       "      <th>24</th>\n",
       "      <td>0</td>\n",
       "    </tr>\n",
       "    <tr>\n",
       "      <th>25</th>\n",
       "      <td>0</td>\n",
       "    </tr>\n",
       "    <tr>\n",
       "      <th>26</th>\n",
       "      <td>0</td>\n",
       "    </tr>\n",
       "    <tr>\n",
       "      <th>27</th>\n",
       "      <td>0</td>\n",
       "    </tr>\n",
       "    <tr>\n",
       "      <th>28</th>\n",
       "      <td>0</td>\n",
       "    </tr>\n",
       "    <tr>\n",
       "      <th>29</th>\n",
       "      <td>0</td>\n",
       "    </tr>\n",
       "    <tr>\n",
       "      <th>...</th>\n",
       "      <td>...</td>\n",
       "    </tr>\n",
       "    <tr>\n",
       "      <th>1114709</th>\n",
       "      <td>0</td>\n",
       "    </tr>\n",
       "    <tr>\n",
       "      <th>1114710</th>\n",
       "      <td>0</td>\n",
       "    </tr>\n",
       "    <tr>\n",
       "      <th>1114711</th>\n",
       "      <td>0</td>\n",
       "    </tr>\n",
       "    <tr>\n",
       "      <th>1114712</th>\n",
       "      <td>0</td>\n",
       "    </tr>\n",
       "    <tr>\n",
       "      <th>1114713</th>\n",
       "      <td>0</td>\n",
       "    </tr>\n",
       "    <tr>\n",
       "      <th>1114714</th>\n",
       "      <td>0</td>\n",
       "    </tr>\n",
       "    <tr>\n",
       "      <th>1114715</th>\n",
       "      <td>0</td>\n",
       "    </tr>\n",
       "    <tr>\n",
       "      <th>1114716</th>\n",
       "      <td>0</td>\n",
       "    </tr>\n",
       "    <tr>\n",
       "      <th>1114717</th>\n",
       "      <td>0</td>\n",
       "    </tr>\n",
       "    <tr>\n",
       "      <th>1114718</th>\n",
       "      <td>0</td>\n",
       "    </tr>\n",
       "    <tr>\n",
       "      <th>1114719</th>\n",
       "      <td>0</td>\n",
       "    </tr>\n",
       "    <tr>\n",
       "      <th>1114720</th>\n",
       "      <td>0</td>\n",
       "    </tr>\n",
       "    <tr>\n",
       "      <th>1114721</th>\n",
       "      <td>0</td>\n",
       "    </tr>\n",
       "    <tr>\n",
       "      <th>1114722</th>\n",
       "      <td>0</td>\n",
       "    </tr>\n",
       "    <tr>\n",
       "      <th>1114723</th>\n",
       "      <td>0</td>\n",
       "    </tr>\n",
       "    <tr>\n",
       "      <th>1114724</th>\n",
       "      <td>0</td>\n",
       "    </tr>\n",
       "    <tr>\n",
       "      <th>1114725</th>\n",
       "      <td>0</td>\n",
       "    </tr>\n",
       "    <tr>\n",
       "      <th>1114726</th>\n",
       "      <td>0</td>\n",
       "    </tr>\n",
       "    <tr>\n",
       "      <th>1114727</th>\n",
       "      <td>0</td>\n",
       "    </tr>\n",
       "    <tr>\n",
       "      <th>1114728</th>\n",
       "      <td>0</td>\n",
       "    </tr>\n",
       "    <tr>\n",
       "      <th>1114729</th>\n",
       "      <td>1</td>\n",
       "    </tr>\n",
       "    <tr>\n",
       "      <th>1114730</th>\n",
       "      <td>0</td>\n",
       "    </tr>\n",
       "    <tr>\n",
       "      <th>1114731</th>\n",
       "      <td>1</td>\n",
       "    </tr>\n",
       "    <tr>\n",
       "      <th>1114732</th>\n",
       "      <td>0</td>\n",
       "    </tr>\n",
       "    <tr>\n",
       "      <th>1114733</th>\n",
       "      <td>0</td>\n",
       "    </tr>\n",
       "    <tr>\n",
       "      <th>1114734</th>\n",
       "      <td>0</td>\n",
       "    </tr>\n",
       "    <tr>\n",
       "      <th>1114735</th>\n",
       "      <td>0</td>\n",
       "    </tr>\n",
       "    <tr>\n",
       "      <th>1114736</th>\n",
       "      <td>0</td>\n",
       "    </tr>\n",
       "    <tr>\n",
       "      <th>1114737</th>\n",
       "      <td>0</td>\n",
       "    </tr>\n",
       "    <tr>\n",
       "      <th>1114738</th>\n",
       "      <td>0</td>\n",
       "    </tr>\n",
       "  </tbody>\n",
       "</table>\n",
       "<p>1114739 rows × 1 columns</p>\n",
       "</div>"
      ],
      "text/plain": [
       "         Borough_BROOKLYN\n",
       "0                       0\n",
       "1                       0\n",
       "2                       0\n",
       "3                       0\n",
       "4                       0\n",
       "5                       0\n",
       "6                       0\n",
       "7                       0\n",
       "8                       0\n",
       "9                       0\n",
       "10                      0\n",
       "11                      0\n",
       "12                      0\n",
       "13                      0\n",
       "14                      0\n",
       "15                      0\n",
       "16                      0\n",
       "17                      0\n",
       "18                      0\n",
       "19                      0\n",
       "20                      0\n",
       "21                      0\n",
       "22                      0\n",
       "23                      0\n",
       "24                      0\n",
       "25                      0\n",
       "26                      0\n",
       "27                      0\n",
       "28                      0\n",
       "29                      0\n",
       "...                   ...\n",
       "1114709                 0\n",
       "1114710                 0\n",
       "1114711                 0\n",
       "1114712                 0\n",
       "1114713                 0\n",
       "1114714                 0\n",
       "1114715                 0\n",
       "1114716                 0\n",
       "1114717                 0\n",
       "1114718                 0\n",
       "1114719                 0\n",
       "1114720                 0\n",
       "1114721                 0\n",
       "1114722                 0\n",
       "1114723                 0\n",
       "1114724                 0\n",
       "1114725                 0\n",
       "1114726                 0\n",
       "1114727                 0\n",
       "1114728                 0\n",
       "1114729                 1\n",
       "1114730                 0\n",
       "1114731                 1\n",
       "1114732                 0\n",
       "1114733                 0\n",
       "1114734                 0\n",
       "1114735                 0\n",
       "1114736                 0\n",
       "1114737                 0\n",
       "1114738                 0\n",
       "\n",
       "[1114739 rows x 1 columns]"
      ]
     },
     "execution_count": 191,
     "metadata": {},
     "output_type": "execute_result"
    }
   ],
   "source": [
    "comp2.iloc[:,15:]"
   ]
  },
  {
   "cell_type": "code",
   "execution_count": 160,
   "metadata": {},
   "outputs": [
    {
     "name": "stdout",
     "output_type": "stream",
     "text": [
      "(2057764, 33)\n",
      "(2057764, 18)\n"
     ]
    }
   ],
   "source": [
    "print prob2.shape\n",
    "print prob.shape"
   ]
  },
  {
   "cell_type": "code",
   "execution_count": 159,
   "metadata": {},
   "outputs": [
    {
     "data": {
      "text/html": [
       "<div>\n",
       "<style>\n",
       "    .dataframe thead tr:only-child th {\n",
       "        text-align: right;\n",
       "    }\n",
       "\n",
       "    .dataframe thead th {\n",
       "        text-align: left;\n",
       "    }\n",
       "\n",
       "    .dataframe tbody tr th {\n",
       "        vertical-align: top;\n",
       "    }\n",
       "</style>\n",
       "<table border=\"1\" class=\"dataframe\">\n",
       "  <thead>\n",
       "    <tr style=\"text-align: right;\">\n",
       "      <th></th>\n",
       "      <th>ProblemID</th>\n",
       "      <th>ComplaintID</th>\n",
       "      <th>UnitTypeID</th>\n",
       "      <th>UnitType</th>\n",
       "      <th>SpaceTypeID</th>\n",
       "      <th>SpaceType</th>\n",
       "      <th>TypeID</th>\n",
       "      <th>Type</th>\n",
       "      <th>MajorCategoryID</th>\n",
       "      <th>MinorCategoryID</th>\n",
       "      <th>...</th>\n",
       "      <th>MajorCategory_GENERAL</th>\n",
       "      <th>MajorCategory_HEAT/HOT WATER</th>\n",
       "      <th>MajorCategory_HEATING</th>\n",
       "      <th>MajorCategory_NONCONST</th>\n",
       "      <th>MajorCategory_OUTSIDE BUILDING</th>\n",
       "      <th>MajorCategory_PAINT/PLASTER</th>\n",
       "      <th>MajorCategory_PLUMBING</th>\n",
       "      <th>MajorCategory_SAFETY</th>\n",
       "      <th>MajorCategory_UNSANITARY CONDITION</th>\n",
       "      <th>MajorCategory_WATER LEAK</th>\n",
       "    </tr>\n",
       "  </thead>\n",
       "  <tbody>\n",
       "    <tr>\n",
       "      <th>0</th>\n",
       "      <td>17307278</td>\n",
       "      <td>8412850</td>\n",
       "      <td>91</td>\n",
       "      <td>APARTMENT</td>\n",
       "      <td>543</td>\n",
       "      <td>ENTIRE APARTMENT</td>\n",
       "      <td>1</td>\n",
       "      <td>EMERGENCY</td>\n",
       "      <td>56</td>\n",
       "      <td>337</td>\n",
       "      <td>...</td>\n",
       "      <td>0</td>\n",
       "      <td>0</td>\n",
       "      <td>0</td>\n",
       "      <td>0</td>\n",
       "      <td>0</td>\n",
       "      <td>0</td>\n",
       "      <td>0</td>\n",
       "      <td>0</td>\n",
       "      <td>0</td>\n",
       "      <td>0</td>\n",
       "    </tr>\n",
       "    <tr>\n",
       "      <th>1</th>\n",
       "      <td>17317058</td>\n",
       "      <td>8417365</td>\n",
       "      <td>91</td>\n",
       "      <td>APARTMENT</td>\n",
       "      <td>543</td>\n",
       "      <td>ENTIRE APARTMENT</td>\n",
       "      <td>3</td>\n",
       "      <td>NON EMERGENCY</td>\n",
       "      <td>63</td>\n",
       "      <td>376</td>\n",
       "      <td>...</td>\n",
       "      <td>0</td>\n",
       "      <td>0</td>\n",
       "      <td>0</td>\n",
       "      <td>0</td>\n",
       "      <td>0</td>\n",
       "      <td>0</td>\n",
       "      <td>0</td>\n",
       "      <td>0</td>\n",
       "      <td>1</td>\n",
       "      <td>0</td>\n",
       "    </tr>\n",
       "  </tbody>\n",
       "</table>\n",
       "<p>2 rows × 33 columns</p>\n",
       "</div>"
      ],
      "text/plain": [
       "   ProblemID  ComplaintID  UnitTypeID   UnitType  SpaceTypeID   \\\n",
       "0   17307278      8412850          91  APARTMENT           543   \n",
       "1   17317058      8417365          91  APARTMENT           543   \n",
       "\n",
       "          SpaceType  TypeID           Type  MajorCategoryID  MinorCategoryID  \\\n",
       "0  ENTIRE APARTMENT       1      EMERGENCY               56              337   \n",
       "1  ENTIRE APARTMENT       3  NON EMERGENCY               63              376   \n",
       "\n",
       "             ...            MajorCategory_GENERAL  \\\n",
       "0            ...                                0   \n",
       "1            ...                                0   \n",
       "\n",
       "   MajorCategory_HEAT/HOT WATER MajorCategory_HEATING  MajorCategory_NONCONST  \\\n",
       "0                             0                     0                       0   \n",
       "1                             0                     0                       0   \n",
       "\n",
       "  MajorCategory_OUTSIDE BUILDING MajorCategory_PAINT/PLASTER  \\\n",
       "0                              0                           0   \n",
       "1                              0                           0   \n",
       "\n",
       "  MajorCategory_PLUMBING  MajorCategory_SAFETY  \\\n",
       "0                      0                     0   \n",
       "1                      0                     0   \n",
       "\n",
       "   MajorCategory_UNSANITARY CONDITION  MajorCategory_WATER LEAK  \n",
       "0                                   0                         0  \n",
       "1                                   1                         0  \n",
       "\n",
       "[2 rows x 33 columns]"
      ]
     },
     "execution_count": 159,
     "metadata": {},
     "output_type": "execute_result"
    }
   ],
   "source": [
    "prob2.head(2)"
   ]
  },
  {
   "cell_type": "code",
   "execution_count": 194,
   "metadata": {},
   "outputs": [],
   "source": [
    "df_merged = pd.merge(prob2, comp2 , on = 'ComplaintID', how = \"inner\")"
   ]
  },
  {
   "cell_type": "code",
   "execution_count": 195,
   "metadata": {},
   "outputs": [
    {
     "data": {
      "text/plain": [
       "(2057664, 48)"
      ]
     },
     "execution_count": 195,
     "metadata": {},
     "output_type": "execute_result"
    }
   ],
   "source": [
    "df_merged.shape"
   ]
  },
  {
   "cell_type": "code",
   "execution_count": 200,
   "metadata": {},
   "outputs": [],
   "source": [
    "X = df_merged.iloc[:,47:]"
   ]
  },
  {
   "cell_type": "code",
   "execution_count": 225,
   "metadata": {},
   "outputs": [],
   "source": [
    "y = df_merged.iloc[:,17:33]"
   ]
  },
  {
   "cell_type": "code",
   "execution_count": 211,
   "metadata": {},
   "outputs": [
    {
     "data": {
      "text/html": [
       "<div>\n",
       "<style>\n",
       "    .dataframe thead tr:only-child th {\n",
       "        text-align: right;\n",
       "    }\n",
       "\n",
       "    .dataframe thead th {\n",
       "        text-align: left;\n",
       "    }\n",
       "\n",
       "    .dataframe tbody tr th {\n",
       "        vertical-align: top;\n",
       "    }\n",
       "</style>\n",
       "<table border=\"1\" class=\"dataframe\">\n",
       "  <thead>\n",
       "    <tr style=\"text-align: right;\">\n",
       "      <th></th>\n",
       "      <th>Borough_BROOKLYN</th>\n",
       "    </tr>\n",
       "  </thead>\n",
       "  <tbody>\n",
       "    <tr>\n",
       "      <th>0</th>\n",
       "      <td>0</td>\n",
       "    </tr>\n",
       "    <tr>\n",
       "      <th>1</th>\n",
       "      <td>0</td>\n",
       "    </tr>\n",
       "    <tr>\n",
       "      <th>2</th>\n",
       "      <td>0</td>\n",
       "    </tr>\n",
       "    <tr>\n",
       "      <th>3</th>\n",
       "      <td>0</td>\n",
       "    </tr>\n",
       "    <tr>\n",
       "      <th>4</th>\n",
       "      <td>0</td>\n",
       "    </tr>\n",
       "  </tbody>\n",
       "</table>\n",
       "</div>"
      ],
      "text/plain": [
       "   Borough_BROOKLYN\n",
       "0                 0\n",
       "1                 0\n",
       "2                 0\n",
       "3                 0\n",
       "4                 0"
      ]
     },
     "execution_count": 211,
     "metadata": {},
     "output_type": "execute_result"
    }
   ],
   "source": [
    "X.head()"
   ]
  },
  {
   "cell_type": "code",
   "execution_count": 226,
   "metadata": {},
   "outputs": [],
   "source": [
    "X_train, X_test, y_train, y_test = train_test_split(X, y, random_state=0)"
   ]
  },
  {
   "cell_type": "code",
   "execution_count": 227,
   "metadata": {},
   "outputs": [
    {
     "data": {
      "text/plain": [
       "(514416, 16)"
      ]
     },
     "execution_count": 227,
     "metadata": {},
     "output_type": "execute_result"
    }
   ],
   "source": [
    "y_test.shape"
   ]
  },
  {
   "cell_type": "code",
   "execution_count": 228,
   "metadata": {},
   "outputs": [
    {
     "data": {
      "text/plain": [
       "(1543248, 1)"
      ]
     },
     "execution_count": 228,
     "metadata": {},
     "output_type": "execute_result"
    }
   ],
   "source": [
    "X_train.shape"
   ]
  },
  {
   "cell_type": "code",
   "execution_count": 230,
   "metadata": {},
   "outputs": [
    {
     "ename": "ValueError",
     "evalue": "bad input shape (1543248, 16)",
     "output_type": "error",
     "traceback": [
      "\u001b[0;31m---------------------------------------------------------------------------\u001b[0m",
      "\u001b[0;31mValueError\u001b[0m                                Traceback (most recent call last)",
      "\u001b[0;32m<ipython-input-230-fd8252498c4d>\u001b[0m in \u001b[0;36m<module>\u001b[0;34m()\u001b[0m\n\u001b[1;32m      1\u001b[0m \u001b[0mclassifier\u001b[0m \u001b[0;34m=\u001b[0m \u001b[0mLogisticRegression\u001b[0m\u001b[0;34m(\u001b[0m\u001b[0mrandom_state\u001b[0m\u001b[0;34m=\u001b[0m\u001b[0;36m0\u001b[0m\u001b[0;34m)\u001b[0m\u001b[0;34m\u001b[0m\u001b[0m\n\u001b[0;32m----> 2\u001b[0;31m \u001b[0mclassifier\u001b[0m\u001b[0;34m.\u001b[0m\u001b[0mfit\u001b[0m\u001b[0;34m(\u001b[0m\u001b[0mX_train\u001b[0m\u001b[0;34m,\u001b[0m \u001b[0my_train\u001b[0m\u001b[0;34m)\u001b[0m\u001b[0;34m\u001b[0m\u001b[0m\n\u001b[0m",
      "\u001b[0;32m/Users/avigailvantu/anaconda2/lib/python2.7/site-packages/sklearn/linear_model/logistic.pyc\u001b[0m in \u001b[0;36mfit\u001b[0;34m(self, X, y, sample_weight)\u001b[0m\n\u001b[1;32m   1214\u001b[0m \u001b[0;34m\u001b[0m\u001b[0m\n\u001b[1;32m   1215\u001b[0m         X, y = check_X_y(X, y, accept_sparse='csr', dtype=_dtype,\n\u001b[0;32m-> 1216\u001b[0;31m                          order=\"C\")\n\u001b[0m\u001b[1;32m   1217\u001b[0m         \u001b[0mcheck_classification_targets\u001b[0m\u001b[0;34m(\u001b[0m\u001b[0my\u001b[0m\u001b[0;34m)\u001b[0m\u001b[0;34m\u001b[0m\u001b[0m\n\u001b[1;32m   1218\u001b[0m         \u001b[0mself\u001b[0m\u001b[0;34m.\u001b[0m\u001b[0mclasses_\u001b[0m \u001b[0;34m=\u001b[0m \u001b[0mnp\u001b[0m\u001b[0;34m.\u001b[0m\u001b[0munique\u001b[0m\u001b[0;34m(\u001b[0m\u001b[0my\u001b[0m\u001b[0;34m)\u001b[0m\u001b[0;34m\u001b[0m\u001b[0m\n",
      "\u001b[0;32m/Users/avigailvantu/anaconda2/lib/python2.7/site-packages/sklearn/utils/validation.pyc\u001b[0m in \u001b[0;36mcheck_X_y\u001b[0;34m(X, y, accept_sparse, dtype, order, copy, force_all_finite, ensure_2d, allow_nd, multi_output, ensure_min_samples, ensure_min_features, y_numeric, warn_on_dtype, estimator)\u001b[0m\n\u001b[1;32m    576\u001b[0m                         dtype=None)\n\u001b[1;32m    577\u001b[0m     \u001b[0;32melse\u001b[0m\u001b[0;34m:\u001b[0m\u001b[0;34m\u001b[0m\u001b[0m\n\u001b[0;32m--> 578\u001b[0;31m         \u001b[0my\u001b[0m \u001b[0;34m=\u001b[0m \u001b[0mcolumn_or_1d\u001b[0m\u001b[0;34m(\u001b[0m\u001b[0my\u001b[0m\u001b[0;34m,\u001b[0m \u001b[0mwarn\u001b[0m\u001b[0;34m=\u001b[0m\u001b[0mTrue\u001b[0m\u001b[0;34m)\u001b[0m\u001b[0;34m\u001b[0m\u001b[0m\n\u001b[0m\u001b[1;32m    579\u001b[0m         \u001b[0m_assert_all_finite\u001b[0m\u001b[0;34m(\u001b[0m\u001b[0my\u001b[0m\u001b[0;34m)\u001b[0m\u001b[0;34m\u001b[0m\u001b[0m\n\u001b[1;32m    580\u001b[0m     \u001b[0;32mif\u001b[0m \u001b[0my_numeric\u001b[0m \u001b[0;32mand\u001b[0m \u001b[0my\u001b[0m\u001b[0;34m.\u001b[0m\u001b[0mdtype\u001b[0m\u001b[0;34m.\u001b[0m\u001b[0mkind\u001b[0m \u001b[0;34m==\u001b[0m \u001b[0;34m'O'\u001b[0m\u001b[0;34m:\u001b[0m\u001b[0;34m\u001b[0m\u001b[0m\n",
      "\u001b[0;32m/Users/avigailvantu/anaconda2/lib/python2.7/site-packages/sklearn/utils/validation.pyc\u001b[0m in \u001b[0;36mcolumn_or_1d\u001b[0;34m(y, warn)\u001b[0m\n\u001b[1;32m    612\u001b[0m         \u001b[0;32mreturn\u001b[0m \u001b[0mnp\u001b[0m\u001b[0;34m.\u001b[0m\u001b[0mravel\u001b[0m\u001b[0;34m(\u001b[0m\u001b[0my\u001b[0m\u001b[0;34m)\u001b[0m\u001b[0;34m\u001b[0m\u001b[0m\n\u001b[1;32m    613\u001b[0m \u001b[0;34m\u001b[0m\u001b[0m\n\u001b[0;32m--> 614\u001b[0;31m     \u001b[0;32mraise\u001b[0m \u001b[0mValueError\u001b[0m\u001b[0;34m(\u001b[0m\u001b[0;34m\"bad input shape {0}\"\u001b[0m\u001b[0;34m.\u001b[0m\u001b[0mformat\u001b[0m\u001b[0;34m(\u001b[0m\u001b[0mshape\u001b[0m\u001b[0;34m)\u001b[0m\u001b[0;34m)\u001b[0m\u001b[0;34m\u001b[0m\u001b[0m\n\u001b[0m\u001b[1;32m    615\u001b[0m \u001b[0;34m\u001b[0m\u001b[0m\n\u001b[1;32m    616\u001b[0m \u001b[0;34m\u001b[0m\u001b[0m\n",
      "\u001b[0;31mValueError\u001b[0m: bad input shape (1543248, 16)"
     ]
    }
   ],
   "source": [
    "classifier = LogisticRegression(random_state=0)\n",
    "classifier.fit(X_train, y_train)"
   ]
  },
  {
   "cell_type": "code",
   "execution_count": null,
   "metadata": {
    "collapsed": true
   },
   "outputs": [],
   "source": []
  }
 ],
 "metadata": {
  "kernelspec": {
   "display_name": "Python 2",
   "language": "python",
   "name": "python2"
  },
  "language_info": {
   "codemirror_mode": {
    "name": "ipython",
    "version": 2
   },
   "file_extension": ".py",
   "mimetype": "text/x-python",
   "name": "python",
   "nbconvert_exporter": "python",
   "pygments_lexer": "ipython2",
   "version": "2.7.14"
  }
 },
 "nbformat": 4,
 "nbformat_minor": 2
}
